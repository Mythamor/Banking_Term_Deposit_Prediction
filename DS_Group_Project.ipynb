{
  "cells": [
    {
      "cell_type": "markdown",
      "metadata": {
        "id": "PgUsgqmIY31J"
      },
      "source": [
        "# BANKING DATASET CLASSIFICATION"
      ]
    },
    {
      "cell_type": "markdown",
      "source": [
        "# Business Understanding"
      ],
      "metadata": {
        "id": "q7KPc-HLyX5a"
      }
    },
    {
      "cell_type": "markdown",
      "source": [
        "## Overview\n",
        "A long term deposit is an investment product offered by banks that allows individuals to earn interest on their savings over a specified period of time. Long-term deposits are a powerful way for banks to generate substantial profits over an extended period. These deposits allow banks to secure a stable source of funding and lend out money at a higher interest rate than they offer depositors. Additionally, long-term deposits are less likely to be withdrawn, providing banks with a reliable and predictable source of income. By identifying existing customers who are more likely to subscribe to long-term deposit plans, banks can increase their revenue while maintaining customer loyalty. With their ability to generate consistent returns, long-term deposits are a valuable tool for banks looking to build a profitable business model and achieve long-term financial stability."
      ],
      "metadata": {
        "id": "LvaohhEvx_ju"
      }
    },
    {
      "cell_type": "markdown",
      "source": [
        "## Business Problem\n",
        "A bank in Portugal is experiencing a decline in its revenue and seeking to boost its revenue through increasing its long term deposits. This is set to be achieved by identifying existing customers who are more likely to subscribe to long term deposits. In consequence, the bank has collected data on its marketing campaigns conducted over the phone with customers who are potential subscribers to the long term deposit plan. The goal of this project is to develop a classification model that can predict whether a customer will subscribe to the long deposit plan or not based on the marketing data collected. The model will help the bank focus its marketing budget to customers who are more likely to subscribe thereby not only reducing the marketing budget, but also increasing the conversion rate of subscribers which will translate to the overall revenue boost."
      ],
      "metadata": {
        "id": "xRUz4VWugnAE"
      }
    },
    {
      "cell_type": "markdown",
      "source": [
        "## Objective"
      ],
      "metadata": {
        "id": "0sZYG3hpe4pa"
      }
    },
    {
      "cell_type": "markdown",
      "source": [
        "The main objective is to build a model that can predict if a client will subscribe to a long term deposit."
      ],
      "metadata": {
        "id": "wIGsOBxBe8Jp"
      }
    },
    {
      "cell_type": "markdown",
      "source": [
        "### Specific objectives\n",
        "- To determine the model's overall performance in classifying whether a customer will subscribe to a long term deposit plan or not based on the marketing data.\n",
        "- To identify the relationship between a client's features and their subscription to a long term deposit.\n",
        "\n"
      ],
      "metadata": {
        "id": "qckWz1aTe8TF"
      }
    },
    {
      "cell_type": "markdown",
      "metadata": {
        "id": "uWr64JmRZaBx"
      },
      "source": [
        "# Data Understanding\n",
        "The banking dataset, which is available in [Kaggle](https://www.kaggle.com/datasets/rashmiranu/banking-dataset-classification), is used. It is related to direct marketing campaigns of a Portuguese banking institution. The marketing campaigns were based on phone calls."
      ]
    },
    {
      "cell_type": "code",
      "execution_count": null,
      "metadata": {
        "id": "etIXbLuo5ovh"
      },
      "outputs": [],
      "source": [
        "# import libraries\n",
        "import pandas as pd\n",
        "import numpy as np\n",
        "import matplotlib.pyplot as plt\n",
        "import seaborn as sns\n",
        "from sklearn.model_selection import train_test_split\n",
        "from sklearn.preprocessing import StandardScaler\n",
        "from sklearn.tree import DecisionTreeClassifier\n",
        "from sklearn.pipeline import Pipeline\n",
        "from sklearn.model_selection import GridSearchCV\n",
        "from sklearn.linear_model import LogisticRegression\n",
        "from sklearn.ensemble import RandomForestClassifier\n",
        "from sklearn.neighbors import KNeighborsClassifier\n",
        "from sklearn.metrics import accuracy_score, precision_score, recall_score, f1_score, classification_report\n",
        "from sklearn.metrics import roc_auc_score, confusion_matrix\n",
        "from sklearn.decomposition import PCA\n",
        "\n",
        "\n",
        "import warnings\n",
        "\n",
        "warnings.filterwarnings(\"ignore\")"
      ]
    },
    {
      "cell_type": "code",
      "execution_count": null,
      "metadata": {
        "colab": {
          "base_uri": "https://localhost:8080/",
          "height": 206
        },
        "id": "E-8DVIy1bhTa",
        "outputId": "51cee32e-2609-4823-e6d6-f951dbec8128"
      },
      "outputs": [
        {
          "output_type": "execute_result",
          "data": {
            "text/plain": [
              "   age           job   marital          education default housing loan  \\\n",
              "0   49   blue-collar   married           basic.9y     NaN      no   no   \n",
              "1   37  entrepreneur   married  university.degree      no      no   no   \n",
              "2   78       retired   married           basic.4y      no      no   no   \n",
              "3   36        admin.   married  university.degree      no     yes   no   \n",
              "4   59       retired  divorced  university.degree      no      no   no   \n",
              "\n",
              "     contact month day_of_week  duration  campaign  pdays  previous  \\\n",
              "0   cellular   nov         wed       227         4    999         0   \n",
              "1  telephone   nov         wed       202         2    999         1   \n",
              "2   cellular   jul         mon      1148         1    999         0   \n",
              "3  telephone   may         mon       120         2    999         0   \n",
              "4   cellular   jun         tue       368         2    999         0   \n",
              "\n",
              "      poutcome    y  \n",
              "0  nonexistent   no  \n",
              "1      failure   no  \n",
              "2  nonexistent  yes  \n",
              "3  nonexistent   no  \n",
              "4  nonexistent   no  "
            ],
            "text/html": [
              "\n",
              "  <div id=\"df-bada0930-d452-4f94-b90a-efdd7d0f294c\">\n",
              "    <div class=\"colab-df-container\">\n",
              "      <div>\n",
              "<style scoped>\n",
              "    .dataframe tbody tr th:only-of-type {\n",
              "        vertical-align: middle;\n",
              "    }\n",
              "\n",
              "    .dataframe tbody tr th {\n",
              "        vertical-align: top;\n",
              "    }\n",
              "\n",
              "    .dataframe thead th {\n",
              "        text-align: right;\n",
              "    }\n",
              "</style>\n",
              "<table border=\"1\" class=\"dataframe\">\n",
              "  <thead>\n",
              "    <tr style=\"text-align: right;\">\n",
              "      <th></th>\n",
              "      <th>age</th>\n",
              "      <th>job</th>\n",
              "      <th>marital</th>\n",
              "      <th>education</th>\n",
              "      <th>default</th>\n",
              "      <th>housing</th>\n",
              "      <th>loan</th>\n",
              "      <th>contact</th>\n",
              "      <th>month</th>\n",
              "      <th>day_of_week</th>\n",
              "      <th>duration</th>\n",
              "      <th>campaign</th>\n",
              "      <th>pdays</th>\n",
              "      <th>previous</th>\n",
              "      <th>poutcome</th>\n",
              "      <th>y</th>\n",
              "    </tr>\n",
              "  </thead>\n",
              "  <tbody>\n",
              "    <tr>\n",
              "      <th>0</th>\n",
              "      <td>49</td>\n",
              "      <td>blue-collar</td>\n",
              "      <td>married</td>\n",
              "      <td>basic.9y</td>\n",
              "      <td>NaN</td>\n",
              "      <td>no</td>\n",
              "      <td>no</td>\n",
              "      <td>cellular</td>\n",
              "      <td>nov</td>\n",
              "      <td>wed</td>\n",
              "      <td>227</td>\n",
              "      <td>4</td>\n",
              "      <td>999</td>\n",
              "      <td>0</td>\n",
              "      <td>nonexistent</td>\n",
              "      <td>no</td>\n",
              "    </tr>\n",
              "    <tr>\n",
              "      <th>1</th>\n",
              "      <td>37</td>\n",
              "      <td>entrepreneur</td>\n",
              "      <td>married</td>\n",
              "      <td>university.degree</td>\n",
              "      <td>no</td>\n",
              "      <td>no</td>\n",
              "      <td>no</td>\n",
              "      <td>telephone</td>\n",
              "      <td>nov</td>\n",
              "      <td>wed</td>\n",
              "      <td>202</td>\n",
              "      <td>2</td>\n",
              "      <td>999</td>\n",
              "      <td>1</td>\n",
              "      <td>failure</td>\n",
              "      <td>no</td>\n",
              "    </tr>\n",
              "    <tr>\n",
              "      <th>2</th>\n",
              "      <td>78</td>\n",
              "      <td>retired</td>\n",
              "      <td>married</td>\n",
              "      <td>basic.4y</td>\n",
              "      <td>no</td>\n",
              "      <td>no</td>\n",
              "      <td>no</td>\n",
              "      <td>cellular</td>\n",
              "      <td>jul</td>\n",
              "      <td>mon</td>\n",
              "      <td>1148</td>\n",
              "      <td>1</td>\n",
              "      <td>999</td>\n",
              "      <td>0</td>\n",
              "      <td>nonexistent</td>\n",
              "      <td>yes</td>\n",
              "    </tr>\n",
              "    <tr>\n",
              "      <th>3</th>\n",
              "      <td>36</td>\n",
              "      <td>admin.</td>\n",
              "      <td>married</td>\n",
              "      <td>university.degree</td>\n",
              "      <td>no</td>\n",
              "      <td>yes</td>\n",
              "      <td>no</td>\n",
              "      <td>telephone</td>\n",
              "      <td>may</td>\n",
              "      <td>mon</td>\n",
              "      <td>120</td>\n",
              "      <td>2</td>\n",
              "      <td>999</td>\n",
              "      <td>0</td>\n",
              "      <td>nonexistent</td>\n",
              "      <td>no</td>\n",
              "    </tr>\n",
              "    <tr>\n",
              "      <th>4</th>\n",
              "      <td>59</td>\n",
              "      <td>retired</td>\n",
              "      <td>divorced</td>\n",
              "      <td>university.degree</td>\n",
              "      <td>no</td>\n",
              "      <td>no</td>\n",
              "      <td>no</td>\n",
              "      <td>cellular</td>\n",
              "      <td>jun</td>\n",
              "      <td>tue</td>\n",
              "      <td>368</td>\n",
              "      <td>2</td>\n",
              "      <td>999</td>\n",
              "      <td>0</td>\n",
              "      <td>nonexistent</td>\n",
              "      <td>no</td>\n",
              "    </tr>\n",
              "  </tbody>\n",
              "</table>\n",
              "</div>\n",
              "      <button class=\"colab-df-convert\" onclick=\"convertToInteractive('df-bada0930-d452-4f94-b90a-efdd7d0f294c')\"\n",
              "              title=\"Convert this dataframe to an interactive table.\"\n",
              "              style=\"display:none;\">\n",
              "        \n",
              "  <svg xmlns=\"http://www.w3.org/2000/svg\" height=\"24px\"viewBox=\"0 0 24 24\"\n",
              "       width=\"24px\">\n",
              "    <path d=\"M0 0h24v24H0V0z\" fill=\"none\"/>\n",
              "    <path d=\"M18.56 5.44l.94 2.06.94-2.06 2.06-.94-2.06-.94-.94-2.06-.94 2.06-2.06.94zm-11 1L8.5 8.5l.94-2.06 2.06-.94-2.06-.94L8.5 2.5l-.94 2.06-2.06.94zm10 10l.94 2.06.94-2.06 2.06-.94-2.06-.94-.94-2.06-.94 2.06-2.06.94z\"/><path d=\"M17.41 7.96l-1.37-1.37c-.4-.4-.92-.59-1.43-.59-.52 0-1.04.2-1.43.59L10.3 9.45l-7.72 7.72c-.78.78-.78 2.05 0 2.83L4 21.41c.39.39.9.59 1.41.59.51 0 1.02-.2 1.41-.59l7.78-7.78 2.81-2.81c.8-.78.8-2.07 0-2.86zM5.41 20L4 18.59l7.72-7.72 1.47 1.35L5.41 20z\"/>\n",
              "  </svg>\n",
              "      </button>\n",
              "      \n",
              "  <style>\n",
              "    .colab-df-container {\n",
              "      display:flex;\n",
              "      flex-wrap:wrap;\n",
              "      gap: 12px;\n",
              "    }\n",
              "\n",
              "    .colab-df-convert {\n",
              "      background-color: #E8F0FE;\n",
              "      border: none;\n",
              "      border-radius: 50%;\n",
              "      cursor: pointer;\n",
              "      display: none;\n",
              "      fill: #1967D2;\n",
              "      height: 32px;\n",
              "      padding: 0 0 0 0;\n",
              "      width: 32px;\n",
              "    }\n",
              "\n",
              "    .colab-df-convert:hover {\n",
              "      background-color: #E2EBFA;\n",
              "      box-shadow: 0px 1px 2px rgba(60, 64, 67, 0.3), 0px 1px 3px 1px rgba(60, 64, 67, 0.15);\n",
              "      fill: #174EA6;\n",
              "    }\n",
              "\n",
              "    [theme=dark] .colab-df-convert {\n",
              "      background-color: #3B4455;\n",
              "      fill: #D2E3FC;\n",
              "    }\n",
              "\n",
              "    [theme=dark] .colab-df-convert:hover {\n",
              "      background-color: #434B5C;\n",
              "      box-shadow: 0px 1px 3px 1px rgba(0, 0, 0, 0.15);\n",
              "      filter: drop-shadow(0px 1px 2px rgba(0, 0, 0, 0.3));\n",
              "      fill: #FFFFFF;\n",
              "    }\n",
              "  </style>\n",
              "\n",
              "      <script>\n",
              "        const buttonEl =\n",
              "          document.querySelector('#df-bada0930-d452-4f94-b90a-efdd7d0f294c button.colab-df-convert');\n",
              "        buttonEl.style.display =\n",
              "          google.colab.kernel.accessAllowed ? 'block' : 'none';\n",
              "\n",
              "        async function convertToInteractive(key) {\n",
              "          const element = document.querySelector('#df-bada0930-d452-4f94-b90a-efdd7d0f294c');\n",
              "          const dataTable =\n",
              "            await google.colab.kernel.invokeFunction('convertToInteractive',\n",
              "                                                     [key], {});\n",
              "          if (!dataTable) return;\n",
              "\n",
              "          const docLinkHtml = 'Like what you see? Visit the ' +\n",
              "            '<a target=\"_blank\" href=https://colab.research.google.com/notebooks/data_table.ipynb>data table notebook</a>'\n",
              "            + ' to learn more about interactive tables.';\n",
              "          element.innerHTML = '';\n",
              "          dataTable['output_type'] = 'display_data';\n",
              "          await google.colab.output.renderOutput(dataTable, element);\n",
              "          const docLink = document.createElement('div');\n",
              "          docLink.innerHTML = docLinkHtml;\n",
              "          element.appendChild(docLink);\n",
              "        }\n",
              "      </script>\n",
              "    </div>\n",
              "  </div>\n",
              "  "
            ]
          },
          "metadata": {},
          "execution_count": 2
        }
      ],
      "source": [
        "# load the data\n",
        "bank_df = pd.read_csv('BankData.csv', index_col=0)\n",
        "bank_df.head()"
      ]
    },
    {
      "cell_type": "code",
      "execution_count": null,
      "metadata": {
        "colab": {
          "base_uri": "https://localhost:8080/"
        },
        "id": "Xvehzatk5wUl",
        "outputId": "a9a18211-a785-49e7-95f4-d251b7b4788d"
      },
      "outputs": [
        {
          "output_type": "stream",
          "name": "stdout",
          "text": [
            "bank_df has 32950 rows and 16 columns\n"
          ]
        }
      ],
      "source": [
        "# number of rows and columns\n",
        "print(f'bank_df has {bank_df.shape[0]} rows and {bank_df.shape[1]} columns')"
      ]
    },
    {
      "cell_type": "code",
      "execution_count": null,
      "metadata": {
        "colab": {
          "base_uri": "https://localhost:8080/"
        },
        "id": "zPfvdS_s9gfg",
        "outputId": "0ab5a055-df79-441a-f42a-e5844ee9818d"
      },
      "outputs": [
        {
          "output_type": "stream",
          "name": "stdout",
          "text": [
            "<class 'pandas.core.frame.DataFrame'>\n",
            "Int64Index: 32950 entries, 0 to 32949\n",
            "Data columns (total 16 columns):\n",
            " #   Column       Non-Null Count  Dtype \n",
            "---  ------       --------------  ----- \n",
            " 0   age          32950 non-null  int64 \n",
            " 1   job          32685 non-null  object\n",
            " 2   marital      32885 non-null  object\n",
            " 3   education    31553 non-null  object\n",
            " 4   default      26010 non-null  object\n",
            " 5   housing      32154 non-null  object\n",
            " 6   loan         32154 non-null  object\n",
            " 7   contact      32950 non-null  object\n",
            " 8   month        32950 non-null  object\n",
            " 9   day_of_week  32950 non-null  object\n",
            " 10  duration     32950 non-null  int64 \n",
            " 11  campaign     32950 non-null  int64 \n",
            " 12  pdays        32950 non-null  int64 \n",
            " 13  previous     32950 non-null  int64 \n",
            " 14  poutcome     32950 non-null  object\n",
            " 15  y            32950 non-null  object\n",
            "dtypes: int64(5), object(11)\n",
            "memory usage: 4.3+ MB\n"
          ]
        }
      ],
      "source": [
        "# summary information\n",
        "bank_df.info()"
      ]
    },
    {
      "cell_type": "markdown",
      "metadata": {
        "id": "7fSXI1V3QwG6"
      },
      "source": [
        "The dataset has both categorical and numeric variables."
      ]
    },
    {
      "cell_type": "code",
      "execution_count": null,
      "metadata": {
        "colab": {
          "base_uri": "https://localhost:8080/"
        },
        "id": "DbLVqVZ-DbmJ",
        "outputId": "b08d7dbf-8ea2-47f7-aab2-f6bdf2dbe4da"
      },
      "outputs": [
        {
          "output_type": "stream",
          "name": "stdout",
          "text": [
            "JOB\n",
            "admin.           8314\n",
            "blue-collar      7441\n",
            "technician       5400\n",
            "services         3196\n",
            "management       2345\n",
            "retired          1366\n",
            "entrepreneur     1160\n",
            "self-employed    1099\n",
            "housemaid         855\n",
            "unemployed        798\n",
            "student           711\n",
            "Name: job, dtype: int64\n",
            "-----------------------------------------------\n",
            "MARITAL\n",
            "married     19953\n",
            "single       9257\n",
            "divorced     3675\n",
            "Name: marital, dtype: int64\n",
            "-----------------------------------------------\n",
            "EDUCATION\n",
            "university.degree      9736\n",
            "high.school            7596\n",
            "basic.9y               4826\n",
            "professional.course    4192\n",
            "basic.4y               3322\n",
            "basic.6y               1865\n",
            "illiterate               16\n",
            "Name: education, dtype: int64\n",
            "-----------------------------------------------\n",
            "DEFAULT\n",
            "no     26007\n",
            "yes        3\n",
            "Name: default, dtype: int64\n",
            "-----------------------------------------------\n",
            "HOUSING\n",
            "yes    17254\n",
            "no     14900\n",
            "Name: housing, dtype: int64\n",
            "-----------------------------------------------\n",
            "LOAN\n",
            "no     27131\n",
            "yes     5023\n",
            "Name: loan, dtype: int64\n",
            "-----------------------------------------------\n",
            "CONTACT\n",
            "cellular     20908\n",
            "telephone    12042\n",
            "Name: contact, dtype: int64\n",
            "-----------------------------------------------\n",
            "MONTH\n",
            "may    11011\n",
            "jul     5763\n",
            "aug     4948\n",
            "jun     4247\n",
            "nov     3266\n",
            "apr     2085\n",
            "oct      587\n",
            "sep      464\n",
            "mar      436\n",
            "dec      143\n",
            "Name: month, dtype: int64\n",
            "-----------------------------------------------\n",
            "DAY_OF_WEEK\n",
            "thu    6857\n",
            "mon    6812\n",
            "wed    6515\n",
            "tue    6444\n",
            "fri    6322\n",
            "Name: day_of_week, dtype: int64\n",
            "-----------------------------------------------\n",
            "POUTCOME\n",
            "nonexistent    28416\n",
            "failure         3429\n",
            "success         1105\n",
            "Name: poutcome, dtype: int64\n",
            "-----------------------------------------------\n",
            "Y\n",
            "no     29238\n",
            "yes     3712\n",
            "Name: y, dtype: int64\n",
            "-----------------------------------------------\n"
          ]
        }
      ],
      "source": [
        "# unique values of categorical columns\n",
        "for col in bank_df.select_dtypes(include='object').columns:\n",
        "    print(col.upper())\n",
        "    print(bank_df[col].value_counts())\n",
        "    print('-----------------------------------------------')"
      ]
    },
    {
      "cell_type": "code",
      "execution_count": null,
      "metadata": {
        "colab": {
          "base_uri": "https://localhost:8080/",
          "height": 300
        },
        "id": "ek5SbC7-Knd-",
        "outputId": "c9dd7a68-ad25-48b3-f959-c70d9bdb68e7"
      },
      "outputs": [
        {
          "output_type": "execute_result",
          "data": {
            "text/plain": [
              "                age      duration      campaign         pdays      previous\n",
              "count  32950.000000  32950.000000  32950.000000  32950.000000  32950.000000\n",
              "mean      40.014112    258.127466      2.560607    962.052413      0.174719\n",
              "std       10.403636    258.975917      2.752326    187.951096      0.499025\n",
              "min       17.000000      0.000000      1.000000      0.000000      0.000000\n",
              "25%       32.000000    103.000000      1.000000    999.000000      0.000000\n",
              "50%       38.000000    180.000000      2.000000    999.000000      0.000000\n",
              "75%       47.000000    319.000000      3.000000    999.000000      0.000000\n",
              "max       98.000000   4918.000000     56.000000    999.000000      7.000000"
            ],
            "text/html": [
              "\n",
              "  <div id=\"df-1524f53c-e4de-4b14-833a-8fb33c775aaa\">\n",
              "    <div class=\"colab-df-container\">\n",
              "      <div>\n",
              "<style scoped>\n",
              "    .dataframe tbody tr th:only-of-type {\n",
              "        vertical-align: middle;\n",
              "    }\n",
              "\n",
              "    .dataframe tbody tr th {\n",
              "        vertical-align: top;\n",
              "    }\n",
              "\n",
              "    .dataframe thead th {\n",
              "        text-align: right;\n",
              "    }\n",
              "</style>\n",
              "<table border=\"1\" class=\"dataframe\">\n",
              "  <thead>\n",
              "    <tr style=\"text-align: right;\">\n",
              "      <th></th>\n",
              "      <th>age</th>\n",
              "      <th>duration</th>\n",
              "      <th>campaign</th>\n",
              "      <th>pdays</th>\n",
              "      <th>previous</th>\n",
              "    </tr>\n",
              "  </thead>\n",
              "  <tbody>\n",
              "    <tr>\n",
              "      <th>count</th>\n",
              "      <td>32950.000000</td>\n",
              "      <td>32950.000000</td>\n",
              "      <td>32950.000000</td>\n",
              "      <td>32950.000000</td>\n",
              "      <td>32950.000000</td>\n",
              "    </tr>\n",
              "    <tr>\n",
              "      <th>mean</th>\n",
              "      <td>40.014112</td>\n",
              "      <td>258.127466</td>\n",
              "      <td>2.560607</td>\n",
              "      <td>962.052413</td>\n",
              "      <td>0.174719</td>\n",
              "    </tr>\n",
              "    <tr>\n",
              "      <th>std</th>\n",
              "      <td>10.403636</td>\n",
              "      <td>258.975917</td>\n",
              "      <td>2.752326</td>\n",
              "      <td>187.951096</td>\n",
              "      <td>0.499025</td>\n",
              "    </tr>\n",
              "    <tr>\n",
              "      <th>min</th>\n",
              "      <td>17.000000</td>\n",
              "      <td>0.000000</td>\n",
              "      <td>1.000000</td>\n",
              "      <td>0.000000</td>\n",
              "      <td>0.000000</td>\n",
              "    </tr>\n",
              "    <tr>\n",
              "      <th>25%</th>\n",
              "      <td>32.000000</td>\n",
              "      <td>103.000000</td>\n",
              "      <td>1.000000</td>\n",
              "      <td>999.000000</td>\n",
              "      <td>0.000000</td>\n",
              "    </tr>\n",
              "    <tr>\n",
              "      <th>50%</th>\n",
              "      <td>38.000000</td>\n",
              "      <td>180.000000</td>\n",
              "      <td>2.000000</td>\n",
              "      <td>999.000000</td>\n",
              "      <td>0.000000</td>\n",
              "    </tr>\n",
              "    <tr>\n",
              "      <th>75%</th>\n",
              "      <td>47.000000</td>\n",
              "      <td>319.000000</td>\n",
              "      <td>3.000000</td>\n",
              "      <td>999.000000</td>\n",
              "      <td>0.000000</td>\n",
              "    </tr>\n",
              "    <tr>\n",
              "      <th>max</th>\n",
              "      <td>98.000000</td>\n",
              "      <td>4918.000000</td>\n",
              "      <td>56.000000</td>\n",
              "      <td>999.000000</td>\n",
              "      <td>7.000000</td>\n",
              "    </tr>\n",
              "  </tbody>\n",
              "</table>\n",
              "</div>\n",
              "      <button class=\"colab-df-convert\" onclick=\"convertToInteractive('df-1524f53c-e4de-4b14-833a-8fb33c775aaa')\"\n",
              "              title=\"Convert this dataframe to an interactive table.\"\n",
              "              style=\"display:none;\">\n",
              "        \n",
              "  <svg xmlns=\"http://www.w3.org/2000/svg\" height=\"24px\"viewBox=\"0 0 24 24\"\n",
              "       width=\"24px\">\n",
              "    <path d=\"M0 0h24v24H0V0z\" fill=\"none\"/>\n",
              "    <path d=\"M18.56 5.44l.94 2.06.94-2.06 2.06-.94-2.06-.94-.94-2.06-.94 2.06-2.06.94zm-11 1L8.5 8.5l.94-2.06 2.06-.94-2.06-.94L8.5 2.5l-.94 2.06-2.06.94zm10 10l.94 2.06.94-2.06 2.06-.94-2.06-.94-.94-2.06-.94 2.06-2.06.94z\"/><path d=\"M17.41 7.96l-1.37-1.37c-.4-.4-.92-.59-1.43-.59-.52 0-1.04.2-1.43.59L10.3 9.45l-7.72 7.72c-.78.78-.78 2.05 0 2.83L4 21.41c.39.39.9.59 1.41.59.51 0 1.02-.2 1.41-.59l7.78-7.78 2.81-2.81c.8-.78.8-2.07 0-2.86zM5.41 20L4 18.59l7.72-7.72 1.47 1.35L5.41 20z\"/>\n",
              "  </svg>\n",
              "      </button>\n",
              "      \n",
              "  <style>\n",
              "    .colab-df-container {\n",
              "      display:flex;\n",
              "      flex-wrap:wrap;\n",
              "      gap: 12px;\n",
              "    }\n",
              "\n",
              "    .colab-df-convert {\n",
              "      background-color: #E8F0FE;\n",
              "      border: none;\n",
              "      border-radius: 50%;\n",
              "      cursor: pointer;\n",
              "      display: none;\n",
              "      fill: #1967D2;\n",
              "      height: 32px;\n",
              "      padding: 0 0 0 0;\n",
              "      width: 32px;\n",
              "    }\n",
              "\n",
              "    .colab-df-convert:hover {\n",
              "      background-color: #E2EBFA;\n",
              "      box-shadow: 0px 1px 2px rgba(60, 64, 67, 0.3), 0px 1px 3px 1px rgba(60, 64, 67, 0.15);\n",
              "      fill: #174EA6;\n",
              "    }\n",
              "\n",
              "    [theme=dark] .colab-df-convert {\n",
              "      background-color: #3B4455;\n",
              "      fill: #D2E3FC;\n",
              "    }\n",
              "\n",
              "    [theme=dark] .colab-df-convert:hover {\n",
              "      background-color: #434B5C;\n",
              "      box-shadow: 0px 1px 3px 1px rgba(0, 0, 0, 0.15);\n",
              "      filter: drop-shadow(0px 1px 2px rgba(0, 0, 0, 0.3));\n",
              "      fill: #FFFFFF;\n",
              "    }\n",
              "  </style>\n",
              "\n",
              "      <script>\n",
              "        const buttonEl =\n",
              "          document.querySelector('#df-1524f53c-e4de-4b14-833a-8fb33c775aaa button.colab-df-convert');\n",
              "        buttonEl.style.display =\n",
              "          google.colab.kernel.accessAllowed ? 'block' : 'none';\n",
              "\n",
              "        async function convertToInteractive(key) {\n",
              "          const element = document.querySelector('#df-1524f53c-e4de-4b14-833a-8fb33c775aaa');\n",
              "          const dataTable =\n",
              "            await google.colab.kernel.invokeFunction('convertToInteractive',\n",
              "                                                     [key], {});\n",
              "          if (!dataTable) return;\n",
              "\n",
              "          const docLinkHtml = 'Like what you see? Visit the ' +\n",
              "            '<a target=\"_blank\" href=https://colab.research.google.com/notebooks/data_table.ipynb>data table notebook</a>'\n",
              "            + ' to learn more about interactive tables.';\n",
              "          element.innerHTML = '';\n",
              "          dataTable['output_type'] = 'display_data';\n",
              "          await google.colab.output.renderOutput(dataTable, element);\n",
              "          const docLink = document.createElement('div');\n",
              "          docLink.innerHTML = docLinkHtml;\n",
              "          element.appendChild(docLink);\n",
              "        }\n",
              "      </script>\n",
              "    </div>\n",
              "  </div>\n",
              "  "
            ]
          },
          "metadata": {},
          "execution_count": 6
        }
      ],
      "source": [
        "# summary statistics\n",
        "bank_df.describe()"
      ]
    },
    {
      "cell_type": "code",
      "execution_count": null,
      "metadata": {
        "colab": {
          "base_uri": "https://localhost:8080/",
          "height": 499
        },
        "id": "_1YxODWxFU5f",
        "outputId": "5ea58c26-52ff-496c-c87e-728c61431b66"
      },
      "outputs": [
        {
          "output_type": "display_data",
          "data": {
            "text/plain": [
              "<Figure size 1008x576 with 6 Axes>"
            ],
            "image/png": "[encoded data removed]"
          },
          "metadata": {
            "needs_background": "light"
          }
        }
      ],
      "source": [
        "# distribution of numeric columns\n",
        "bank_df.hist(figsize=(14,8), layout=(2,3));"
      ]
    },
    {
      "cell_type": "code",
      "execution_count": null,
      "metadata": {
        "colab": {
          "base_uri": "https://localhost:8080/"
        },
        "id": "VPDi9DfFN290",
        "outputId": "c36d174a-c4ba-451b-ef78-bcb868edebef"
      },
      "outputs": [
        {
          "output_type": "stream",
          "name": "stdout",
          "text": [
            "999    31724\n",
            "3        355\n",
            "6        337\n",
            "Name: pdays, dtype: int64\n"
          ]
        }
      ],
      "source": [
        "# 3 unique values with the highest counts; for 'pdays' column\n",
        "print(bank_df['pdays'].value_counts().head(3))"
      ]
    },
    {
      "cell_type": "markdown",
      "metadata": {
        "id": "uE_41dgGKts7"
      },
      "source": [
        "- Age ranges from 17 to 98 with most people around the age of 40.\n",
        "- The last contact duration is between 0 and 4918 seconds. Most people have a contact duration of less than 500 seconds.\n",
        "- Most people have been contacted less than 5 times during this campaign.\n",
        "- For the majority, 999 days had passed by after the client was last contacted from a previous campaign. 999 means client was not previously contacted.\n",
        "- Before this campaign, most clients had not been contacted at all.\n",
        "\n",
        "NOTE: The numeric columns are not normally distributed and have different scales.\n",
        "\n",
        "\n"
      ]
    },
    {
      "cell_type": "code",
      "execution_count": null,
      "metadata": {
        "colab": {
          "base_uri": "https://localhost:8080/",
          "height": 324
        },
        "id": "fS6iZ0AcQQyS",
        "outputId": "9cdcf1a3-82fc-4dc5-aed9-f49f3416ceb4"
      },
      "outputs": [
        {
          "output_type": "display_data",
          "data": {
            "text/plain": [
              "<Figure size 720x360 with 1 Axes>"
            ],
            "image/png": "[encoded data removed]"
          },
          "metadata": {}
        }
      ],
      "source": [
        "# distribution of the target variable 'y'\n",
        "fig, ax = plt.subplots(figsize=(10, 5))\n",
        "bank_df['y'].value_counts().plot(kind='pie', autopct='%.2f', textprops={'fontsize': 20}, colors=['skyblue', 'brown'], ax=ax)\n",
        "ax.set_ylabel('Client percentage', fontsize=14)\n",
        "ax.set_title('Has the client subscribed a term deposit?', fontsize=20);\n"
      ]
    },
    {
      "cell_type": "markdown",
      "metadata": {
        "id": "DCy2UDCNR9RP"
      },
      "source": [
        "88.73% of the clients have not subscribed for a term deposit. There is a class imbalance problem."
      ]
    },
    {
      "cell_type": "code",
      "execution_count": null,
      "metadata": {
        "colab": {
          "base_uri": "https://localhost:8080/",
          "height": 390
        },
        "id": "5E5b-FklVQt-",
        "outputId": "8a830084-b466-464b-bbc2-fd822cf42d7c"
      },
      "outputs": [
        {
          "output_type": "display_data",
          "data": {
            "text/plain": [
              "<Figure size 720x360 with 1 Axes>"
            ],
            "image/png": "[encoded data removed]"
          },
          "metadata": {
            "needs_background": "light"
          }
        }
      ],
      "source": [
        "# distribution of job column\n",
        "fig, ax  = plt.subplots(figsize=(10,5))\n",
        "sns.countplot(data=bank_df, x='job', hue='y', ax=ax)\n",
        "ax.set_ylabel('Count')\n",
        "plt.xticks(rotation=60);"
      ]
    },
    {
      "cell_type": "code",
      "execution_count": null,
      "metadata": {
        "colab": {
          "base_uri": "https://localhost:8080/",
          "height": 585
        },
        "id": "eIcI_V0NgaPD",
        "outputId": "5b71966b-1a8a-4939-a9d7-dfd881c67ad1"
      },
      "outputs": [
        {
          "output_type": "display_data",
          "data": {
            "text/plain": [
              "<Figure size 864x576 with 6 Axes>"
            ],
            "image/png": "[encoded data removed]"
          },
          "metadata": {
            "needs_background": "light"
          }
        }
      ],
      "source": [
        "# distribution of various categorical columns\n",
        "columns = ['marital', 'default', 'housing', 'loan', 'poutcome', 'education']\n",
        "fig, axes = plt.subplots(nrows=2, ncols=3, figsize=(12,8), sharey=True )\n",
        "for ax, column in zip(axes.flatten(), columns):\n",
        "    sns.countplot(data=bank_df, x=column, hue='y', ax=ax)\n",
        "    ax.set_ylabel('Count')\n",
        "    ax.tick_params(axis='x', labelrotation = 60)\n",
        "fig.tight_layout();"
      ]
    },
    {
      "cell_type": "code",
      "execution_count": null,
      "metadata": {
        "colab": {
          "base_uri": "https://localhost:8080/",
          "height": 466
        },
        "id": "XT4SUyBwnRlL",
        "outputId": "160fdbb1-692a-4293-ac80-ff8f058eef8a"
      },
      "outputs": [
        {
          "output_type": "display_data",
          "data": {
            "text/plain": [
              "<Figure size 576x576 with 2 Axes>"
            ],
            "image/png": "[encoded data removed]"
          },
          "metadata": {
            "needs_background": "light"
          }
        }
      ],
      "source": [
        "#heatmap to show correlation between numeric features\n",
        "fig, ax = plt.subplots(figsize=(8,8))\n",
        "mask = np.triu(np.ones_like(bank_df.corr(), dtype=bool))\n",
        "sns.heatmap(bank_df.corr(), linewidths=0.5, mask=mask, square=True, ax=ax, annot=True);"
      ]
    },
    {
      "cell_type": "markdown",
      "metadata": {
        "id": "B3-gwEM2ncff"
      },
      "source": [
        "p_days has a moderate positive correlation with previous.\n",
        "The correlation between the other features is very low."
      ]
    },
    {
      "cell_type": "markdown",
      "metadata": {
        "id": "qumovsZUZcr_"
      },
      "source": [
        "# Data Preparation"
      ]
    },
    {
      "cell_type": "markdown",
      "metadata": {
        "id": "BLXCeut60vy1"
      },
      "source": [
        "## Duplicates"
      ]
    },
    {
      "cell_type": "code",
      "execution_count": null,
      "metadata": {
        "colab": {
          "base_uri": "https://localhost:8080/"
        },
        "id": "zQT-K51o0vKM",
        "outputId": "90d964cd-ba22-43ef-9420-dbf5ebdee862"
      },
      "outputs": [
        {
          "output_type": "execute_result",
          "data": {
            "text/plain": [
              "False    32942\n",
              "True         8\n",
              "dtype: int64"
            ]
          },
          "metadata": {},
          "execution_count": 13
        }
      ],
      "source": [
        "#check for duplicates\n",
        "bank_df.duplicated().value_counts()"
      ]
    },
    {
      "cell_type": "code",
      "execution_count": null,
      "metadata": {
        "colab": {
          "base_uri": "https://localhost:8080/",
          "height": 238
        },
        "id": "9K_ElhrM23IV",
        "outputId": "6fc7742e-e56d-4f37-b6f6-19ebc3e372a6"
      },
      "outputs": [
        {
          "output_type": "execute_result",
          "data": {
            "text/plain": [
              "       age      job  marital          education default housing loan  \\\n",
              "5861    35   admin.  married  university.degree      no     yes   no   \n",
              "20067   35   admin.  married  university.degree      no     yes   no   \n",
              "6257    36  retired  married                NaN      no      no   no   \n",
              "12252   36  retired  married                NaN      no      no   no   \n",
              "1577    39   admin.  married  university.degree      no      no   no   \n",
              "1923    39   admin.  married  university.degree      no      no   no   \n",
              "\n",
              "         contact month day_of_week  duration  campaign  pdays  previous  \\\n",
              "5861    cellular   may         fri       348         4    999         0   \n",
              "20067   cellular   may         fri       348         4    999         0   \n",
              "6257   telephone   jul         thu        88         1    999         0   \n",
              "12252  telephone   jul         thu        88         1    999         0   \n",
              "1577    cellular   nov         tue       123         2    999         0   \n",
              "1923    cellular   nov         tue       123         2    999         0   \n",
              "\n",
              "          poutcome   y  \n",
              "5861   nonexistent  no  \n",
              "20067  nonexistent  no  \n",
              "6257   nonexistent  no  \n",
              "12252  nonexistent  no  \n",
              "1577   nonexistent  no  \n",
              "1923   nonexistent  no  "
            ],
            "text/html": [
              "\n",
              "  <div id=\"df-5b80b235-6fea-4e49-a966-c24367092fbe\">\n",
              "    <div class=\"colab-df-container\">\n",
              "      <div>\n",
              "<style scoped>\n",
              "    .dataframe tbody tr th:only-of-type {\n",
              "        vertical-align: middle;\n",
              "    }\n",
              "\n",
              "    .dataframe tbody tr th {\n",
              "        vertical-align: top;\n",
              "    }\n",
              "\n",
              "    .dataframe thead th {\n",
              "        text-align: right;\n",
              "    }\n",
              "</style>\n",
              "<table border=\"1\" class=\"dataframe\">\n",
              "  <thead>\n",
              "    <tr style=\"text-align: right;\">\n",
              "      <th></th>\n",
              "      <th>age</th>\n",
              "      <th>job</th>\n",
              "      <th>marital</th>\n",
              "      <th>education</th>\n",
              "      <th>default</th>\n",
              "      <th>housing</th>\n",
              "      <th>loan</th>\n",
              "      <th>contact</th>\n",
              "      <th>month</th>\n",
              "      <th>day_of_week</th>\n",
              "      <th>duration</th>\n",
              "      <th>campaign</th>\n",
              "      <th>pdays</th>\n",
              "      <th>previous</th>\n",
              "      <th>poutcome</th>\n",
              "      <th>y</th>\n",
              "    </tr>\n",
              "  </thead>\n",
              "  <tbody>\n",
              "    <tr>\n",
              "      <th>5861</th>\n",
              "      <td>35</td>\n",
              "      <td>admin.</td>\n",
              "      <td>married</td>\n",
              "      <td>university.degree</td>\n",
              "      <td>no</td>\n",
              "      <td>yes</td>\n",
              "      <td>no</td>\n",
              "      <td>cellular</td>\n",
              "      <td>may</td>\n",
              "      <td>fri</td>\n",
              "      <td>348</td>\n",
              "      <td>4</td>\n",
              "      <td>999</td>\n",
              "      <td>0</td>\n",
              "      <td>nonexistent</td>\n",
              "      <td>no</td>\n",
              "    </tr>\n",
              "    <tr>\n",
              "      <th>20067</th>\n",
              "      <td>35</td>\n",
              "      <td>admin.</td>\n",
              "      <td>married</td>\n",
              "      <td>university.degree</td>\n",
              "      <td>no</td>\n",
              "      <td>yes</td>\n",
              "      <td>no</td>\n",
              "      <td>cellular</td>\n",
              "      <td>may</td>\n",
              "      <td>fri</td>\n",
              "      <td>348</td>\n",
              "      <td>4</td>\n",
              "      <td>999</td>\n",
              "      <td>0</td>\n",
              "      <td>nonexistent</td>\n",
              "      <td>no</td>\n",
              "    </tr>\n",
              "    <tr>\n",
              "      <th>6257</th>\n",
              "      <td>36</td>\n",
              "      <td>retired</td>\n",
              "      <td>married</td>\n",
              "      <td>NaN</td>\n",
              "      <td>no</td>\n",
              "      <td>no</td>\n",
              "      <td>no</td>\n",
              "      <td>telephone</td>\n",
              "      <td>jul</td>\n",
              "      <td>thu</td>\n",
              "      <td>88</td>\n",
              "      <td>1</td>\n",
              "      <td>999</td>\n",
              "      <td>0</td>\n",
              "      <td>nonexistent</td>\n",
              "      <td>no</td>\n",
              "    </tr>\n",
              "    <tr>\n",
              "      <th>12252</th>\n",
              "      <td>36</td>\n",
              "      <td>retired</td>\n",
              "      <td>married</td>\n",
              "      <td>NaN</td>\n",
              "      <td>no</td>\n",
              "      <td>no</td>\n",
              "      <td>no</td>\n",
              "      <td>telephone</td>\n",
              "      <td>jul</td>\n",
              "      <td>thu</td>\n",
              "      <td>88</td>\n",
              "      <td>1</td>\n",
              "      <td>999</td>\n",
              "      <td>0</td>\n",
              "      <td>nonexistent</td>\n",
              "      <td>no</td>\n",
              "    </tr>\n",
              "    <tr>\n",
              "      <th>1577</th>\n",
              "      <td>39</td>\n",
              "      <td>admin.</td>\n",
              "      <td>married</td>\n",
              "      <td>university.degree</td>\n",
              "      <td>no</td>\n",
              "      <td>no</td>\n",
              "      <td>no</td>\n",
              "      <td>cellular</td>\n",
              "      <td>nov</td>\n",
              "      <td>tue</td>\n",
              "      <td>123</td>\n",
              "      <td>2</td>\n",
              "      <td>999</td>\n",
              "      <td>0</td>\n",
              "      <td>nonexistent</td>\n",
              "      <td>no</td>\n",
              "    </tr>\n",
              "    <tr>\n",
              "      <th>1923</th>\n",
              "      <td>39</td>\n",
              "      <td>admin.</td>\n",
              "      <td>married</td>\n",
              "      <td>university.degree</td>\n",
              "      <td>no</td>\n",
              "      <td>no</td>\n",
              "      <td>no</td>\n",
              "      <td>cellular</td>\n",
              "      <td>nov</td>\n",
              "      <td>tue</td>\n",
              "      <td>123</td>\n",
              "      <td>2</td>\n",
              "      <td>999</td>\n",
              "      <td>0</td>\n",
              "      <td>nonexistent</td>\n",
              "      <td>no</td>\n",
              "    </tr>\n",
              "  </tbody>\n",
              "</table>\n",
              "</div>\n",
              "      <button class=\"colab-df-convert\" onclick=\"convertToInteractive('df-5b80b235-6fea-4e49-a966-c24367092fbe')\"\n",
              "              title=\"Convert this dataframe to an interactive table.\"\n",
              "              style=\"display:none;\">\n",
              "        \n",
              "  <svg xmlns=\"http://www.w3.org/2000/svg\" height=\"24px\"viewBox=\"0 0 24 24\"\n",
              "       width=\"24px\">\n",
              "    <path d=\"M0 0h24v24H0V0z\" fill=\"none\"/>\n",
              "    <path d=\"M18.56 5.44l.94 2.06.94-2.06 2.06-.94-2.06-.94-.94-2.06-.94 2.06-2.06.94zm-11 1L8.5 8.5l.94-2.06 2.06-.94-2.06-.94L8.5 2.5l-.94 2.06-2.06.94zm10 10l.94 2.06.94-2.06 2.06-.94-2.06-.94-.94-2.06-.94 2.06-2.06.94z\"/><path d=\"M17.41 7.96l-1.37-1.37c-.4-.4-.92-.59-1.43-.59-.52 0-1.04.2-1.43.59L10.3 9.45l-7.72 7.72c-.78.78-.78 2.05 0 2.83L4 21.41c.39.39.9.59 1.41.59.51 0 1.02-.2 1.41-.59l7.78-7.78 2.81-2.81c.8-.78.8-2.07 0-2.86zM5.41 20L4 18.59l7.72-7.72 1.47 1.35L5.41 20z\"/>\n",
              "  </svg>\n",
              "      </button>\n",
              "      \n",
              "  <style>\n",
              "    .colab-df-container {\n",
              "      display:flex;\n",
              "      flex-wrap:wrap;\n",
              "      gap: 12px;\n",
              "    }\n",
              "\n",
              "    .colab-df-convert {\n",
              "      background-color: #E8F0FE;\n",
              "      border: none;\n",
              "      border-radius: 50%;\n",
              "      cursor: pointer;\n",
              "      display: none;\n",
              "      fill: #1967D2;\n",
              "      height: 32px;\n",
              "      padding: 0 0 0 0;\n",
              "      width: 32px;\n",
              "    }\n",
              "\n",
              "    .colab-df-convert:hover {\n",
              "      background-color: #E2EBFA;\n",
              "      box-shadow: 0px 1px 2px rgba(60, 64, 67, 0.3), 0px 1px 3px 1px rgba(60, 64, 67, 0.15);\n",
              "      fill: #174EA6;\n",
              "    }\n",
              "\n",
              "    [theme=dark] .colab-df-convert {\n",
              "      background-color: #3B4455;\n",
              "      fill: #D2E3FC;\n",
              "    }\n",
              "\n",
              "    [theme=dark] .colab-df-convert:hover {\n",
              "      background-color: #434B5C;\n",
              "      box-shadow: 0px 1px 3px 1px rgba(0, 0, 0, 0.15);\n",
              "      filter: drop-shadow(0px 1px 2px rgba(0, 0, 0, 0.3));\n",
              "      fill: #FFFFFF;\n",
              "    }\n",
              "  </style>\n",
              "\n",
              "      <script>\n",
              "        const buttonEl =\n",
              "          document.querySelector('#df-5b80b235-6fea-4e49-a966-c24367092fbe button.colab-df-convert');\n",
              "        buttonEl.style.display =\n",
              "          google.colab.kernel.accessAllowed ? 'block' : 'none';\n",
              "\n",
              "        async function convertToInteractive(key) {\n",
              "          const element = document.querySelector('#df-5b80b235-6fea-4e49-a966-c24367092fbe');\n",
              "          const dataTable =\n",
              "            await google.colab.kernel.invokeFunction('convertToInteractive',\n",
              "                                                     [key], {});\n",
              "          if (!dataTable) return;\n",
              "\n",
              "          const docLinkHtml = 'Like what you see? Visit the ' +\n",
              "            '<a target=\"_blank\" href=https://colab.research.google.com/notebooks/data_table.ipynb>data table notebook</a>'\n",
              "            + ' to learn more about interactive tables.';\n",
              "          element.innerHTML = '';\n",
              "          dataTable['output_type'] = 'display_data';\n",
              "          await google.colab.output.renderOutput(dataTable, element);\n",
              "          const docLink = document.createElement('div');\n",
              "          docLink.innerHTML = docLinkHtml;\n",
              "          element.appendChild(docLink);\n",
              "        }\n",
              "      </script>\n",
              "    </div>\n",
              "  </div>\n",
              "  "
            ]
          },
          "metadata": {},
          "execution_count": 14
        }
      ],
      "source": [
        "#preview of duplicate rows\n",
        "bank_df[bank_df.duplicated(keep=False)].sort_values(by='age').head(6)"
      ]
    },
    {
      "cell_type": "code",
      "execution_count": null,
      "metadata": {
        "colab": {
          "base_uri": "https://localhost:8080/"
        },
        "id": "Gb46KZLa3y8p",
        "outputId": "2ff21d47-5794-4dd1-9d86-47654ed44583"
      },
      "outputs": [
        {
          "output_type": "execute_result",
          "data": {
            "text/plain": [
              "False    32942\n",
              "dtype: int64"
            ]
          },
          "metadata": {},
          "execution_count": 15
        }
      ],
      "source": [
        "# remove the duplicate rows\n",
        "bank_df.drop_duplicates(inplace=True)\n",
        "bank_df.duplicated().value_counts()"
      ]
    },
    {
      "cell_type": "markdown",
      "metadata": {
        "id": "zJ3Ny5uGgxR4"
      },
      "source": [
        "## Missing Values"
      ]
    },
    {
      "cell_type": "code",
      "execution_count": null,
      "metadata": {
        "colab": {
          "base_uri": "https://localhost:8080/"
        },
        "id": "zYIrYC9pO4KD",
        "outputId": "402a3dd7-d142-4734-da25-3850f28d9d73"
      },
      "outputs": [
        {
          "output_type": "execute_result",
          "data": {
            "text/plain": [
              "age               0\n",
              "job             265\n",
              "marital          65\n",
              "education      1396\n",
              "default        6939\n",
              "housing         796\n",
              "loan            796\n",
              "contact           0\n",
              "month             0\n",
              "day_of_week       0\n",
              "duration          0\n",
              "campaign          0\n",
              "pdays             0\n",
              "previous          0\n",
              "poutcome          0\n",
              "y                 0\n",
              "dtype: int64"
            ]
          },
          "metadata": {},
          "execution_count": 16
        }
      ],
      "source": [
        "# check for missing values\n",
        "bank_df.isna().sum()"
      ]
    },
    {
      "cell_type": "code",
      "execution_count": null,
      "metadata": {
        "colab": {
          "base_uri": "https://localhost:8080/",
          "height": 238
        },
        "id": "ufTZATe2pQ2B",
        "outputId": "39423112-613a-453d-aa3c-e4ea2a38e46c"
      },
      "outputs": [
        {
          "output_type": "execute_result",
          "data": {
            "text/plain": [
              "     age          job   marital          education default housing loan  \\\n",
              "43    55          NaN   married                NaN     NaN     yes   no   \n",
              "52    48  blue-collar   married                NaN     NaN     NaN  NaN   \n",
              "70    32       admin.    single  university.degree     NaN     NaN  NaN   \n",
              "81    49  blue-collar  divorced                NaN     NaN     yes   no   \n",
              "88    77      retired   married           basic.4y      no     NaN  NaN   \n",
              "102   45          NaN   married                NaN     NaN     yes   no   \n",
              "\n",
              "       contact month day_of_week  duration  campaign  pdays  previous  \\\n",
              "43    cellular   aug         thu        60         4    999         0   \n",
              "52    cellular   aug         thu       642         3    999         0   \n",
              "70   telephone   may         tue        49         1    999         0   \n",
              "81    cellular   jul         wed       284         1    999         0   \n",
              "88    cellular   jul         tue       218         2      3         1   \n",
              "102  telephone   may         thu        56         2    999         0   \n",
              "\n",
              "        poutcome    y  \n",
              "43   nonexistent   no  \n",
              "52   nonexistent   no  \n",
              "70   nonexistent   no  \n",
              "81   nonexistent   no  \n",
              "88       success  yes  \n",
              "102  nonexistent   no  "
            ],
            "text/html": [
              "\n",
              "  <div id=\"df-403a7e9b-5412-464f-a7cd-525e1202268c\">\n",
              "    <div class=\"colab-df-container\">\n",
              "      <div>\n",
              "<style scoped>\n",
              "    .dataframe tbody tr th:only-of-type {\n",
              "        vertical-align: middle;\n",
              "    }\n",
              "\n",
              "    .dataframe tbody tr th {\n",
              "        vertical-align: top;\n",
              "    }\n",
              "\n",
              "    .dataframe thead th {\n",
              "        text-align: right;\n",
              "    }\n",
              "</style>\n",
              "<table border=\"1\" class=\"dataframe\">\n",
              "  <thead>\n",
              "    <tr style=\"text-align: right;\">\n",
              "      <th></th>\n",
              "      <th>age</th>\n",
              "      <th>job</th>\n",
              "      <th>marital</th>\n",
              "      <th>education</th>\n",
              "      <th>default</th>\n",
              "      <th>housing</th>\n",
              "      <th>loan</th>\n",
              "      <th>contact</th>\n",
              "      <th>month</th>\n",
              "      <th>day_of_week</th>\n",
              "      <th>duration</th>\n",
              "      <th>campaign</th>\n",
              "      <th>pdays</th>\n",
              "      <th>previous</th>\n",
              "      <th>poutcome</th>\n",
              "      <th>y</th>\n",
              "    </tr>\n",
              "  </thead>\n",
              "  <tbody>\n",
              "    <tr>\n",
              "      <th>43</th>\n",
              "      <td>55</td>\n",
              "      <td>NaN</td>\n",
              "      <td>married</td>\n",
              "      <td>NaN</td>\n",
              "      <td>NaN</td>\n",
              "      <td>yes</td>\n",
              "      <td>no</td>\n",
              "      <td>cellular</td>\n",
              "      <td>aug</td>\n",
              "      <td>thu</td>\n",
              "      <td>60</td>\n",
              "      <td>4</td>\n",
              "      <td>999</td>\n",
              "      <td>0</td>\n",
              "      <td>nonexistent</td>\n",
              "      <td>no</td>\n",
              "    </tr>\n",
              "    <tr>\n",
              "      <th>52</th>\n",
              "      <td>48</td>\n",
              "      <td>blue-collar</td>\n",
              "      <td>married</td>\n",
              "      <td>NaN</td>\n",
              "      <td>NaN</td>\n",
              "      <td>NaN</td>\n",
              "      <td>NaN</td>\n",
              "      <td>cellular</td>\n",
              "      <td>aug</td>\n",
              "      <td>thu</td>\n",
              "      <td>642</td>\n",
              "      <td>3</td>\n",
              "      <td>999</td>\n",
              "      <td>0</td>\n",
              "      <td>nonexistent</td>\n",
              "      <td>no</td>\n",
              "    </tr>\n",
              "    <tr>\n",
              "      <th>70</th>\n",
              "      <td>32</td>\n",
              "      <td>admin.</td>\n",
              "      <td>single</td>\n",
              "      <td>university.degree</td>\n",
              "      <td>NaN</td>\n",
              "      <td>NaN</td>\n",
              "      <td>NaN</td>\n",
              "      <td>telephone</td>\n",
              "      <td>may</td>\n",
              "      <td>tue</td>\n",
              "      <td>49</td>\n",
              "      <td>1</td>\n",
              "      <td>999</td>\n",
              "      <td>0</td>\n",
              "      <td>nonexistent</td>\n",
              "      <td>no</td>\n",
              "    </tr>\n",
              "    <tr>\n",
              "      <th>81</th>\n",
              "      <td>49</td>\n",
              "      <td>blue-collar</td>\n",
              "      <td>divorced</td>\n",
              "      <td>NaN</td>\n",
              "      <td>NaN</td>\n",
              "      <td>yes</td>\n",
              "      <td>no</td>\n",
              "      <td>cellular</td>\n",
              "      <td>jul</td>\n",
              "      <td>wed</td>\n",
              "      <td>284</td>\n",
              "      <td>1</td>\n",
              "      <td>999</td>\n",
              "      <td>0</td>\n",
              "      <td>nonexistent</td>\n",
              "      <td>no</td>\n",
              "    </tr>\n",
              "    <tr>\n",
              "      <th>88</th>\n",
              "      <td>77</td>\n",
              "      <td>retired</td>\n",
              "      <td>married</td>\n",
              "      <td>basic.4y</td>\n",
              "      <td>no</td>\n",
              "      <td>NaN</td>\n",
              "      <td>NaN</td>\n",
              "      <td>cellular</td>\n",
              "      <td>jul</td>\n",
              "      <td>tue</td>\n",
              "      <td>218</td>\n",
              "      <td>2</td>\n",
              "      <td>3</td>\n",
              "      <td>1</td>\n",
              "      <td>success</td>\n",
              "      <td>yes</td>\n",
              "    </tr>\n",
              "    <tr>\n",
              "      <th>102</th>\n",
              "      <td>45</td>\n",
              "      <td>NaN</td>\n",
              "      <td>married</td>\n",
              "      <td>NaN</td>\n",
              "      <td>NaN</td>\n",
              "      <td>yes</td>\n",
              "      <td>no</td>\n",
              "      <td>telephone</td>\n",
              "      <td>may</td>\n",
              "      <td>thu</td>\n",
              "      <td>56</td>\n",
              "      <td>2</td>\n",
              "      <td>999</td>\n",
              "      <td>0</td>\n",
              "      <td>nonexistent</td>\n",
              "      <td>no</td>\n",
              "    </tr>\n",
              "  </tbody>\n",
              "</table>\n",
              "</div>\n",
              "      <button class=\"colab-df-convert\" onclick=\"convertToInteractive('df-403a7e9b-5412-464f-a7cd-525e1202268c')\"\n",
              "              title=\"Convert this dataframe to an interactive table.\"\n",
              "              style=\"display:none;\">\n",
              "        \n",
              "  <svg xmlns=\"http://www.w3.org/2000/svg\" height=\"24px\"viewBox=\"0 0 24 24\"\n",
              "       width=\"24px\">\n",
              "    <path d=\"M0 0h24v24H0V0z\" fill=\"none\"/>\n",
              "    <path d=\"M18.56 5.44l.94 2.06.94-2.06 2.06-.94-2.06-.94-.94-2.06-.94 2.06-2.06.94zm-11 1L8.5 8.5l.94-2.06 2.06-.94-2.06-.94L8.5 2.5l-.94 2.06-2.06.94zm10 10l.94 2.06.94-2.06 2.06-.94-2.06-.94-.94-2.06-.94 2.06-2.06.94z\"/><path d=\"M17.41 7.96l-1.37-1.37c-.4-.4-.92-.59-1.43-.59-.52 0-1.04.2-1.43.59L10.3 9.45l-7.72 7.72c-.78.78-.78 2.05 0 2.83L4 21.41c.39.39.9.59 1.41.59.51 0 1.02-.2 1.41-.59l7.78-7.78 2.81-2.81c.8-.78.8-2.07 0-2.86zM5.41 20L4 18.59l7.72-7.72 1.47 1.35L5.41 20z\"/>\n",
              "  </svg>\n",
              "      </button>\n",
              "      \n",
              "  <style>\n",
              "    .colab-df-container {\n",
              "      display:flex;\n",
              "      flex-wrap:wrap;\n",
              "      gap: 12px;\n",
              "    }\n",
              "\n",
              "    .colab-df-convert {\n",
              "      background-color: #E8F0FE;\n",
              "      border: none;\n",
              "      border-radius: 50%;\n",
              "      cursor: pointer;\n",
              "      display: none;\n",
              "      fill: #1967D2;\n",
              "      height: 32px;\n",
              "      padding: 0 0 0 0;\n",
              "      width: 32px;\n",
              "    }\n",
              "\n",
              "    .colab-df-convert:hover {\n",
              "      background-color: #E2EBFA;\n",
              "      box-shadow: 0px 1px 2px rgba(60, 64, 67, 0.3), 0px 1px 3px 1px rgba(60, 64, 67, 0.15);\n",
              "      fill: #174EA6;\n",
              "    }\n",
              "\n",
              "    [theme=dark] .colab-df-convert {\n",
              "      background-color: #3B4455;\n",
              "      fill: #D2E3FC;\n",
              "    }\n",
              "\n",
              "    [theme=dark] .colab-df-convert:hover {\n",
              "      background-color: #434B5C;\n",
              "      box-shadow: 0px 1px 3px 1px rgba(0, 0, 0, 0.15);\n",
              "      filter: drop-shadow(0px 1px 2px rgba(0, 0, 0, 0.3));\n",
              "      fill: #FFFFFF;\n",
              "    }\n",
              "  </style>\n",
              "\n",
              "      <script>\n",
              "        const buttonEl =\n",
              "          document.querySelector('#df-403a7e9b-5412-464f-a7cd-525e1202268c button.colab-df-convert');\n",
              "        buttonEl.style.display =\n",
              "          google.colab.kernel.accessAllowed ? 'block' : 'none';\n",
              "\n",
              "        async function convertToInteractive(key) {\n",
              "          const element = document.querySelector('#df-403a7e9b-5412-464f-a7cd-525e1202268c');\n",
              "          const dataTable =\n",
              "            await google.colab.kernel.invokeFunction('convertToInteractive',\n",
              "                                                     [key], {});\n",
              "          if (!dataTable) return;\n",
              "\n",
              "          const docLinkHtml = 'Like what you see? Visit the ' +\n",
              "            '<a target=\"_blank\" href=https://colab.research.google.com/notebooks/data_table.ipynb>data table notebook</a>'\n",
              "            + ' to learn more about interactive tables.';\n",
              "          element.innerHTML = '';\n",
              "          dataTable['output_type'] = 'display_data';\n",
              "          await google.colab.output.renderOutput(dataTable, element);\n",
              "          const docLink = document.createElement('div');\n",
              "          docLink.innerHTML = docLinkHtml;\n",
              "          element.appendChild(docLink);\n",
              "        }\n",
              "      </script>\n",
              "    </div>\n",
              "  </div>\n",
              "  "
            ]
          },
          "metadata": {},
          "execution_count": 17
        }
      ],
      "source": [
        "# rows with more than one missing values\n",
        "bank_df[bank_df.isnull().sum(axis=1) > 1].head(6)"
      ]
    },
    {
      "cell_type": "code",
      "execution_count": null,
      "metadata": {
        "colab": {
          "base_uri": "https://localhost:8080/"
        },
        "id": "FsJ5p_HxpzVs",
        "outputId": "ae0323dc-81a4-4754-fb71-32cf564ae4d7"
      },
      "outputs": [
        {
          "output_type": "execute_result",
          "data": {
            "text/plain": [
              "4.049541618602392"
            ]
          },
          "metadata": {},
          "execution_count": 18
        }
      ],
      "source": [
        "# percentage of rows with more than one missing values\n",
        "(len(bank_df[bank_df.isnull().sum(axis=1) > 1])/ len(bank_df)) * 100"
      ]
    },
    {
      "cell_type": "code",
      "execution_count": null,
      "metadata": {
        "colab": {
          "base_uri": "https://localhost:8080/"
        },
        "id": "MNiZ0Qv2rW8H",
        "outputId": "9ee1b08f-030c-4a4a-8534-5bf81fdbd71b"
      },
      "outputs": [
        {
          "output_type": "execute_result",
          "data": {
            "text/plain": [
              "age               0\n",
              "job              97\n",
              "marital          46\n",
              "education       897\n",
              "default        6269\n",
              "housing           0\n",
              "loan              0\n",
              "contact           0\n",
              "month             0\n",
              "day_of_week       0\n",
              "duration          0\n",
              "campaign          0\n",
              "pdays             0\n",
              "previous          0\n",
              "poutcome          0\n",
              "y                 0\n",
              "dtype: int64"
            ]
          },
          "metadata": {},
          "execution_count": 19
        }
      ],
      "source": [
        "#remove rows with more than one missing values\n",
        "bank_df = bank_df[bank_df.isnull().sum(axis=1) <= 1]\n",
        "\n",
        "#recheck for missing values\n",
        "bank_df.isna().sum()"
      ]
    },
    {
      "cell_type": "code",
      "execution_count": null,
      "metadata": {
        "colab": {
          "base_uri": "https://localhost:8080/"
        },
        "id": "dZduZQe6VdAt",
        "outputId": "a2e2572f-5571-4495-ff9d-1747e60f8ea8"
      },
      "outputs": [
        {
          "output_type": "execute_result",
          "data": {
            "text/plain": [
              "no     25336\n",
              "yes        3\n",
              "Name: default, dtype: int64"
            ]
          },
          "metadata": {},
          "execution_count": 20
        }
      ],
      "source": [
        "# value counts of default column\n",
        "bank_df.default.value_counts()"
      ]
    },
    {
      "cell_type": "markdown",
      "metadata": {
        "id": "FSuK3oghUxgh"
      },
      "source": [
        "'Default' column has the highest number of missing values, 6269. From the dataset, there are only 3 clients who have credit in default. It is not suitable to replace the many missing values with the mode. Instead, the missing values will be replaced with unknown.<br>\n",
        "For the  job, marital and education columns, there are a few missing values. These values can be replaced by the mode."
      ]
    },
    {
      "cell_type": "code",
      "execution_count": null,
      "metadata": {
        "id": "5QX3l2nRsNJc"
      },
      "outputs": [],
      "source": [
        "# handle missing values\n",
        "# replace missing values in default column with unknown\n",
        "bank_df = bank_df.copy()\n",
        "bank_df['default'] = bank_df['default'].replace({np.nan : 'Unknown'})\n",
        "\n",
        "# replace missing values in other columns with mode\n",
        "for col in ['job', 'marital', 'education']:\n",
        "    mode = bank_df[col].mode().loc[0]\n",
        "    bank_df[col] = bank_df[col].fillna(mode)"
      ]
    },
    {
      "cell_type": "code",
      "execution_count": null,
      "metadata": {
        "colab": {
          "base_uri": "https://localhost:8080/"
        },
        "id": "DgwbP66O7va5",
        "outputId": "a8bf740a-173a-4ad8-d3f3-ffe0bbdff9f0"
      },
      "outputs": [
        {
          "output_type": "execute_result",
          "data": {
            "text/plain": [
              "age            0\n",
              "job            0\n",
              "marital        0\n",
              "education      0\n",
              "default        0\n",
              "housing        0\n",
              "loan           0\n",
              "contact        0\n",
              "month          0\n",
              "day_of_week    0\n",
              "duration       0\n",
              "campaign       0\n",
              "pdays          0\n",
              "previous       0\n",
              "poutcome       0\n",
              "y              0\n",
              "dtype: int64"
            ]
          },
          "metadata": {},
          "execution_count": 22
        }
      ],
      "source": [
        "#recheck for missing values\n",
        "bank_df.isna().sum()"
      ]
    },
    {
      "cell_type": "markdown",
      "metadata": {
        "id": "Riris2_1hmhM"
      },
      "source": [
        "## Outliers"
      ]
    },
    {
      "cell_type": "code",
      "execution_count": null,
      "metadata": {
        "colab": {
          "base_uri": "https://localhost:8080/",
          "height": 553
        },
        "id": "_qQZcentdhox",
        "outputId": "aa8c6161-5085-425a-89ae-73fca952e894"
      },
      "outputs": [
        {
          "output_type": "display_data",
          "data": {
            "text/plain": [
              "<Figure size 1080x648 with 6 Axes>"
            ],
            "image/png": "[encoded data removed]"
          },
          "metadata": {
            "needs_background": "light"
          }
        }
      ],
      "source": [
        "# create subplots for each column\n",
        "fig, axes = plt.subplots(nrows=2, ncols=3, figsize=(15,9))\n",
        "\n",
        "# iterate over each column\n",
        "for i, col in enumerate(bank_df.select_dtypes(include='int64').columns):\n",
        "    # calculate quartiles\n",
        "    \n",
        "    q1 = bank_df[col].quantile(0.25)\n",
        "    q3 = bank_df[col].quantile(0.75)\n",
        "    iqr = q3 - q1\n",
        "    \n",
        "\n",
        "    # calculate outlier boundaries\n",
        "    lower_bound = q1 - 1.5 * iqr\n",
        "    upper_bound = q3 + 1.5 * iqr\n",
        "    \n",
        "    # create boxplot for column\n",
        "    pd.DataFrame(bank_df[col]).boxplot(showfliers=True, ax=axes[i//3, i%3])\n",
        "    axes[i//3, i%3].set_title(col)"
      ]
    },
    {
      "cell_type": "code",
      "execution_count": null,
      "metadata": {
        "id": "WGue_jRHzWcP"
      },
      "outputs": [],
      "source": [
        "# dealing with outliers using logarithmic transformation\n",
        "\n",
        "# select columns for transformation\n",
        "cols = ['age', 'duration', 'campaign', 'pdays', 'previous']\n",
        "\n",
        "# Add the small value to zeros in the column\n",
        "small_value = 0.001\n",
        "for col in cols:\n",
        "    bank_df[col] = bank_df[col].apply(lambda x: small_value if x == 0 else x)\n",
        "# apply logarithmic transformation on selected columns\n",
        "bank_df[cols] = bank_df[cols].apply(np.log)"
      ]
    },
    {
      "cell_type": "code",
      "execution_count": null,
      "metadata": {
        "colab": {
          "base_uri": "https://localhost:8080/",
          "height": 250
        },
        "id": "hyDb0OxlzcGj",
        "outputId": "8d77f5b5-e2e0-4231-9c25-31a94ca6ebf0"
      },
      "outputs": [
        {
          "output_type": "execute_result",
          "data": {
            "text/plain": [
              "        age           job   marital          education  default housing loan  \\\n",
              "0  3.891820   blue-collar   married           basic.9y  Unknown      no   no   \n",
              "1  3.610918  entrepreneur   married  university.degree       no      no   no   \n",
              "2  4.356709       retired   married           basic.4y       no      no   no   \n",
              "3  3.583519        admin.   married  university.degree       no     yes   no   \n",
              "4  4.077537       retired  divorced  university.degree       no      no   no   \n",
              "\n",
              "     contact month day_of_week  duration  campaign     pdays  previous  \\\n",
              "0   cellular   nov         wed  5.424950  1.386294  6.906755 -6.907755   \n",
              "1  telephone   nov         wed  5.308268  0.693147  6.906755  0.000000   \n",
              "2   cellular   jul         mon  7.045777  0.000000  6.906755 -6.907755   \n",
              "3  telephone   may         mon  4.787492  0.693147  6.906755 -6.907755   \n",
              "4   cellular   jun         tue  5.908083  0.693147  6.906755 -6.907755   \n",
              "\n",
              "      poutcome    y  \n",
              "0  nonexistent   no  \n",
              "1      failure   no  \n",
              "2  nonexistent  yes  \n",
              "3  nonexistent   no  \n",
              "4  nonexistent   no  "
            ],
            "text/html": [
              "\n",
              "  <div id=\"df-308ec7f6-e0d8-4b20-82e8-a492b3ccb549\">\n",
              "    <div class=\"colab-df-container\">\n",
              "      <div>\n",
              "<style scoped>\n",
              "    .dataframe tbody tr th:only-of-type {\n",
              "        vertical-align: middle;\n",
              "    }\n",
              "\n",
              "    .dataframe tbody tr th {\n",
              "        vertical-align: top;\n",
              "    }\n",
              "\n",
              "    .dataframe thead th {\n",
              "        text-align: right;\n",
              "    }\n",
              "</style>\n",
              "<table border=\"1\" class=\"dataframe\">\n",
              "  <thead>\n",
              "    <tr style=\"text-align: right;\">\n",
              "      <th></th>\n",
              "      <th>age</th>\n",
              "      <th>job</th>\n",
              "      <th>marital</th>\n",
              "      <th>education</th>\n",
              "      <th>default</th>\n",
              "      <th>housing</th>\n",
              "      <th>loan</th>\n",
              "      <th>contact</th>\n",
              "      <th>month</th>\n",
              "      <th>day_of_week</th>\n",
              "      <th>duration</th>\n",
              "      <th>campaign</th>\n",
              "      <th>pdays</th>\n",
              "      <th>previous</th>\n",
              "      <th>poutcome</th>\n",
              "      <th>y</th>\n",
              "    </tr>\n",
              "  </thead>\n",
              "  <tbody>\n",
              "    <tr>\n",
              "      <th>0</th>\n",
              "      <td>3.891820</td>\n",
              "      <td>blue-collar</td>\n",
              "      <td>married</td>\n",
              "      <td>basic.9y</td>\n",
              "      <td>Unknown</td>\n",
              "      <td>no</td>\n",
              "      <td>no</td>\n",
              "      <td>cellular</td>\n",
              "      <td>nov</td>\n",
              "      <td>wed</td>\n",
              "      <td>5.424950</td>\n",
              "      <td>1.386294</td>\n",
              "      <td>6.906755</td>\n",
              "      <td>-6.907755</td>\n",
              "      <td>nonexistent</td>\n",
              "      <td>no</td>\n",
              "    </tr>\n",
              "    <tr>\n",
              "      <th>1</th>\n",
              "      <td>3.610918</td>\n",
              "      <td>entrepreneur</td>\n",
              "      <td>married</td>\n",
              "      <td>university.degree</td>\n",
              "      <td>no</td>\n",
              "      <td>no</td>\n",
              "      <td>no</td>\n",
              "      <td>telephone</td>\n",
              "      <td>nov</td>\n",
              "      <td>wed</td>\n",
              "      <td>5.308268</td>\n",
              "      <td>0.693147</td>\n",
              "      <td>6.906755</td>\n",
              "      <td>0.000000</td>\n",
              "      <td>failure</td>\n",
              "      <td>no</td>\n",
              "    </tr>\n",
              "    <tr>\n",
              "      <th>2</th>\n",
              "      <td>4.356709</td>\n",
              "      <td>retired</td>\n",
              "      <td>married</td>\n",
              "      <td>basic.4y</td>\n",
              "      <td>no</td>\n",
              "      <td>no</td>\n",
              "      <td>no</td>\n",
              "      <td>cellular</td>\n",
              "      <td>jul</td>\n",
              "      <td>mon</td>\n",
              "      <td>7.045777</td>\n",
              "      <td>0.000000</td>\n",
              "      <td>6.906755</td>\n",
              "      <td>-6.907755</td>\n",
              "      <td>nonexistent</td>\n",
              "      <td>yes</td>\n",
              "    </tr>\n",
              "    <tr>\n",
              "      <th>3</th>\n",
              "      <td>3.583519</td>\n",
              "      <td>admin.</td>\n",
              "      <td>married</td>\n",
              "      <td>university.degree</td>\n",
              "      <td>no</td>\n",
              "      <td>yes</td>\n",
              "      <td>no</td>\n",
              "      <td>telephone</td>\n",
              "      <td>may</td>\n",
              "      <td>mon</td>\n",
              "      <td>4.787492</td>\n",
              "      <td>0.693147</td>\n",
              "      <td>6.906755</td>\n",
              "      <td>-6.907755</td>\n",
              "      <td>nonexistent</td>\n",
              "      <td>no</td>\n",
              "    </tr>\n",
              "    <tr>\n",
              "      <th>4</th>\n",
              "      <td>4.077537</td>\n",
              "      <td>retired</td>\n",
              "      <td>divorced</td>\n",
              "      <td>university.degree</td>\n",
              "      <td>no</td>\n",
              "      <td>no</td>\n",
              "      <td>no</td>\n",
              "      <td>cellular</td>\n",
              "      <td>jun</td>\n",
              "      <td>tue</td>\n",
              "      <td>5.908083</td>\n",
              "      <td>0.693147</td>\n",
              "      <td>6.906755</td>\n",
              "      <td>-6.907755</td>\n",
              "      <td>nonexistent</td>\n",
              "      <td>no</td>\n",
              "    </tr>\n",
              "  </tbody>\n",
              "</table>\n",
              "</div>\n",
              "      <button class=\"colab-df-convert\" onclick=\"convertToInteractive('df-308ec7f6-e0d8-4b20-82e8-a492b3ccb549')\"\n",
              "              title=\"Convert this dataframe to an interactive table.\"\n",
              "              style=\"display:none;\">\n",
              "        \n",
              "  <svg xmlns=\"http://www.w3.org/2000/svg\" height=\"24px\"viewBox=\"0 0 24 24\"\n",
              "       width=\"24px\">\n",
              "    <path d=\"M0 0h24v24H0V0z\" fill=\"none\"/>\n",
              "    <path d=\"M18.56 5.44l.94 2.06.94-2.06 2.06-.94-2.06-.94-.94-2.06-.94 2.06-2.06.94zm-11 1L8.5 8.5l.94-2.06 2.06-.94-2.06-.94L8.5 2.5l-.94 2.06-2.06.94zm10 10l.94 2.06.94-2.06 2.06-.94-2.06-.94-.94-2.06-.94 2.06-2.06.94z\"/><path d=\"M17.41 7.96l-1.37-1.37c-.4-.4-.92-.59-1.43-.59-.52 0-1.04.2-1.43.59L10.3 9.45l-7.72 7.72c-.78.78-.78 2.05 0 2.83L4 21.41c.39.39.9.59 1.41.59.51 0 1.02-.2 1.41-.59l7.78-7.78 2.81-2.81c.8-.78.8-2.07 0-2.86zM5.41 20L4 18.59l7.72-7.72 1.47 1.35L5.41 20z\"/>\n",
              "  </svg>\n",
              "      </button>\n",
              "      \n",
              "  <style>\n",
              "    .colab-df-container {\n",
              "      display:flex;\n",
              "      flex-wrap:wrap;\n",
              "      gap: 12px;\n",
              "    }\n",
              "\n",
              "    .colab-df-convert {\n",
              "      background-color: #E8F0FE;\n",
              "      border: none;\n",
              "      border-radius: 50%;\n",
              "      cursor: pointer;\n",
              "      display: none;\n",
              "      fill: #1967D2;\n",
              "      height: 32px;\n",
              "      padding: 0 0 0 0;\n",
              "      width: 32px;\n",
              "    }\n",
              "\n",
              "    .colab-df-convert:hover {\n",
              "      background-color: #E2EBFA;\n",
              "      box-shadow: 0px 1px 2px rgba(60, 64, 67, 0.3), 0px 1px 3px 1px rgba(60, 64, 67, 0.15);\n",
              "      fill: #174EA6;\n",
              "    }\n",
              "\n",
              "    [theme=dark] .colab-df-convert {\n",
              "      background-color: #3B4455;\n",
              "      fill: #D2E3FC;\n",
              "    }\n",
              "\n",
              "    [theme=dark] .colab-df-convert:hover {\n",
              "      background-color: #434B5C;\n",
              "      box-shadow: 0px 1px 3px 1px rgba(0, 0, 0, 0.15);\n",
              "      filter: drop-shadow(0px 1px 2px rgba(0, 0, 0, 0.3));\n",
              "      fill: #FFFFFF;\n",
              "    }\n",
              "  </style>\n",
              "\n",
              "      <script>\n",
              "        const buttonEl =\n",
              "          document.querySelector('#df-308ec7f6-e0d8-4b20-82e8-a492b3ccb549 button.colab-df-convert');\n",
              "        buttonEl.style.display =\n",
              "          google.colab.kernel.accessAllowed ? 'block' : 'none';\n",
              "\n",
              "        async function convertToInteractive(key) {\n",
              "          const element = document.querySelector('#df-308ec7f6-e0d8-4b20-82e8-a492b3ccb549');\n",
              "          const dataTable =\n",
              "            await google.colab.kernel.invokeFunction('convertToInteractive',\n",
              "                                                     [key], {});\n",
              "          if (!dataTable) return;\n",
              "\n",
              "          const docLinkHtml = 'Like what you see? Visit the ' +\n",
              "            '<a target=\"_blank\" href=https://colab.research.google.com/notebooks/data_table.ipynb>data table notebook</a>'\n",
              "            + ' to learn more about interactive tables.';\n",
              "          element.innerHTML = '';\n",
              "          dataTable['output_type'] = 'display_data';\n",
              "          await google.colab.output.renderOutput(dataTable, element);\n",
              "          const docLink = document.createElement('div');\n",
              "          docLink.innerHTML = docLinkHtml;\n",
              "          element.appendChild(docLink);\n",
              "        }\n",
              "      </script>\n",
              "    </div>\n",
              "  </div>\n",
              "  "
            ]
          },
          "metadata": {},
          "execution_count": 25
        }
      ],
      "source": [
        "# Preview the data after the log transformation\n",
        "bank_df.head()"
      ]
    },
    {
      "cell_type": "markdown",
      "metadata": {
        "id": "G5CQgjHj2EQV"
      },
      "source": [
        "## Check for multicollinearity"
      ]
    },
    {
      "cell_type": "code",
      "execution_count": null,
      "metadata": {
        "colab": {
          "base_uri": "https://localhost:8080/",
          "height": 286
        },
        "id": "XWi1R7QlVre4",
        "outputId": "08d714fc-cc1b-4e63-8ce3-11ba23777407"
      },
      "outputs": [
        {
          "output_type": "execute_result",
          "data": {
            "text/plain": [
              "<AxesSubplot:>"
            ]
          },
          "metadata": {},
          "execution_count": 26
        },
        {
          "output_type": "display_data",
          "data": {
            "text/plain": [
              "<Figure size 432x288 with 2 Axes>"
            ],
            "image/png": "[encoded data removed]"
          },
          "metadata": {
            "needs_background": "light"
          }
        }
      ],
      "source": [
        "# plot heatmap\n",
        "corr_matrix = bank_df[cols].corr()\n",
        "sns.heatmap(corr_matrix, annot=True, cmap='coolwarm')"
      ]
    },
    {
      "cell_type": "markdown",
      "metadata": {
        "id": "gfK5AI1eqmrk"
      },
      "source": [
        "There is no multicollinearity between the features"
      ]
    },
    {
      "cell_type": "markdown",
      "metadata": {
        "id": "sJbd9UMJWgyX"
      },
      "source": [
        "## Separating the Dependent Variable"
      ]
    },
    {
      "cell_type": "code",
      "execution_count": null,
      "metadata": {
        "id": "Fh6nfnalWiEz"
      },
      "outputs": [],
      "source": [
        " #Dropping the contact column\n",
        "bank_df.drop('contact', axis=1, inplace=True)\n",
        "\n",
        "# Independent variables\n",
        "X = bank_df.drop('y', axis=1)\n",
        "\n",
        "# Dependent variable\n",
        "y = bank_df['y']"
      ]
    },
    {
      "cell_type": "code",
      "execution_count": null,
      "metadata": {
        "colab": {
          "base_uri": "https://localhost:8080/",
          "height": 301
        },
        "id": "MoRvJuJ-7z0W",
        "outputId": "10b9285b-3974-43cf-80fe-a51ceb2cf26f"
      },
      "outputs": [
        {
          "data": {
            "text/html": [
              "<div>\n",
              "<style scoped>\n",
              "    .dataframe tbody tr th:only-of-type {\n",
              "        vertical-align: middle;\n",
              "    }\n",
              "\n",
              "    .dataframe tbody tr th {\n",
              "        vertical-align: top;\n",
              "    }\n",
              "\n",
              "    .dataframe thead th {\n",
              "        text-align: right;\n",
              "    }\n",
              "</style>\n",
              "<table border=\"1\" class=\"dataframe\">\n",
              "  <thead>\n",
              "    <tr style=\"text-align: right;\">\n",
              "      <th></th>\n",
              "      <th>age</th>\n",
              "      <th>job</th>\n",
              "      <th>marital</th>\n",
              "      <th>education</th>\n",
              "      <th>default</th>\n",
              "      <th>housing</th>\n",
              "      <th>loan</th>\n",
              "      <th>month</th>\n",
              "      <th>day_of_week</th>\n",
              "      <th>duration</th>\n",
              "      <th>campaign</th>\n",
              "      <th>pdays</th>\n",
              "      <th>previous</th>\n",
              "      <th>poutcome</th>\n",
              "    </tr>\n",
              "  </thead>\n",
              "  <tbody>\n",
              "    <tr>\n",
              "      <th>18765</th>\n",
              "      <td>4.060443</td>\n",
              "      <td>housemaid</td>\n",
              "      <td>married</td>\n",
              "      <td>basic.4y</td>\n",
              "      <td>Unknown</td>\n",
              "      <td>yes</td>\n",
              "      <td>no</td>\n",
              "      <td>aug</td>\n",
              "      <td>mon</td>\n",
              "      <td>5.793014</td>\n",
              "      <td>0.693147</td>\n",
              "      <td>6.906755</td>\n",
              "      <td>-6.907755</td>\n",
              "      <td>nonexistent</td>\n",
              "    </tr>\n",
              "    <tr>\n",
              "      <th>31706</th>\n",
              "      <td>4.060443</td>\n",
              "      <td>retired</td>\n",
              "      <td>married</td>\n",
              "      <td>basic.4y</td>\n",
              "      <td>no</td>\n",
              "      <td>yes</td>\n",
              "      <td>no</td>\n",
              "      <td>jul</td>\n",
              "      <td>wed</td>\n",
              "      <td>4.897840</td>\n",
              "      <td>3.135494</td>\n",
              "      <td>6.906755</td>\n",
              "      <td>-6.907755</td>\n",
              "      <td>nonexistent</td>\n",
              "    </tr>\n",
              "    <tr>\n",
              "      <th>1937</th>\n",
              "      <td>3.951244</td>\n",
              "      <td>services</td>\n",
              "      <td>married</td>\n",
              "      <td>high.school</td>\n",
              "      <td>Unknown</td>\n",
              "      <td>no</td>\n",
              "      <td>no</td>\n",
              "      <td>aug</td>\n",
              "      <td>mon</td>\n",
              "      <td>3.583519</td>\n",
              "      <td>0.693147</td>\n",
              "      <td>6.906755</td>\n",
              "      <td>-6.907755</td>\n",
              "      <td>nonexistent</td>\n",
              "    </tr>\n",
              "    <tr>\n",
              "      <th>11976</th>\n",
              "      <td>3.433987</td>\n",
              "      <td>technician</td>\n",
              "      <td>single</td>\n",
              "      <td>professional.course</td>\n",
              "      <td>no</td>\n",
              "      <td>yes</td>\n",
              "      <td>no</td>\n",
              "      <td>aug</td>\n",
              "      <td>tue</td>\n",
              "      <td>5.170484</td>\n",
              "      <td>0.000000</td>\n",
              "      <td>6.906755</td>\n",
              "      <td>-6.907755</td>\n",
              "      <td>nonexistent</td>\n",
              "    </tr>\n",
              "    <tr>\n",
              "      <th>26530</th>\n",
              "      <td>3.433987</td>\n",
              "      <td>admin.</td>\n",
              "      <td>single</td>\n",
              "      <td>university.degree</td>\n",
              "      <td>no</td>\n",
              "      <td>no</td>\n",
              "      <td>no</td>\n",
              "      <td>aug</td>\n",
              "      <td>wed</td>\n",
              "      <td>5.402677</td>\n",
              "      <td>1.098612</td>\n",
              "      <td>6.906755</td>\n",
              "      <td>-6.907755</td>\n",
              "      <td>nonexistent</td>\n",
              "    </tr>\n",
              "    <tr>\n",
              "      <th>24394</th>\n",
              "      <td>3.912023</td>\n",
              "      <td>management</td>\n",
              "      <td>married</td>\n",
              "      <td>university.degree</td>\n",
              "      <td>no</td>\n",
              "      <td>yes</td>\n",
              "      <td>no</td>\n",
              "      <td>jul</td>\n",
              "      <td>thu</td>\n",
              "      <td>5.081404</td>\n",
              "      <td>0.693147</td>\n",
              "      <td>6.906755</td>\n",
              "      <td>-6.907755</td>\n",
              "      <td>nonexistent</td>\n",
              "    </tr>\n",
              "  </tbody>\n",
              "</table>\n",
              "</div>"
            ],
            "text/plain": [
              "            age         job  marital            education  default housing  \\\n",
              "18765  4.060443   housemaid  married             basic.4y  Unknown     yes   \n",
              "31706  4.060443     retired  married             basic.4y       no     yes   \n",
              "1937   3.951244    services  married          high.school  Unknown      no   \n",
              "11976  3.433987  technician   single  professional.course       no     yes   \n",
              "26530  3.433987      admin.   single    university.degree       no      no   \n",
              "24394  3.912023  management  married    university.degree       no     yes   \n",
              "\n",
              "      loan month day_of_week  duration  campaign     pdays  previous  \\\n",
              "18765   no   aug         mon  5.793014  0.693147  6.906755 -6.907755   \n",
              "31706   no   jul         wed  4.897840  3.135494  6.906755 -6.907755   \n",
              "1937    no   aug         mon  3.583519  0.693147  6.906755 -6.907755   \n",
              "11976   no   aug         tue  5.170484  0.000000  6.906755 -6.907755   \n",
              "26530   no   aug         wed  5.402677  1.098612  6.906755 -6.907755   \n",
              "24394   no   jul         thu  5.081404  0.693147  6.906755 -6.907755   \n",
              "\n",
              "          poutcome  \n",
              "18765  nonexistent  \n",
              "31706  nonexistent  \n",
              "1937   nonexistent  \n",
              "11976  nonexistent  \n",
              "26530  nonexistent  \n",
              "24394  nonexistent  "
            ]
          },
          "execution_count": 93,
          "metadata": {},
          "output_type": "execute_result"
        }
      ],
      "source": [
        "X.sample(6)"
      ]
    },
    {
      "cell_type": "code",
      "execution_count": null,
      "metadata": {
        "colab": {
          "base_uri": "https://localhost:8080/"
        },
        "id": "A1lLQWmOCZ4-",
        "outputId": "1d7a8f76-eb60-4a10-f03e-42e4a3cd3661"
      },
      "outputs": [
        {
          "data": {
            "text/plain": [
              "array([ 6.90675478,  1.09861229,  1.79175947,  2.30258509,  2.07944154,\n",
              "        1.38629436,  2.19722458,  2.39789527,  1.94591015,  1.60943791,\n",
              "        0.69314718,  2.48490665,  3.09104245,  3.21887582,  2.7080502 ,\n",
              "        2.83321334, -6.90775528,  2.63905733,  2.56494936,  0.        ,\n",
              "        2.77258872,  2.89037176,  2.94443898,  3.04452244,  2.99573227,\n",
              "        3.29583687,  3.25809654])"
            ]
          },
          "execution_count": 94,
          "metadata": {},
          "output_type": "execute_result"
        }
      ],
      "source": [
        "bank_df['pdays'].unique()"
      ]
    },
    {
      "cell_type": "markdown",
      "metadata": {
        "id": "MUr8xcCpWn7k"
      },
      "source": [
        "## Train Test Split"
      ]
    },
    {
      "cell_type": "code",
      "execution_count": null,
      "metadata": {
        "id": "YpanL9lPWls6"
      },
      "outputs": [],
      "source": [
        "# X is the feature matrix and y is the target variable\n",
        "X_train, X_test, y_train, y_test = train_test_split(X, y, test_size=0.2, random_state=42)"
      ]
    },
    {
      "cell_type": "code",
      "execution_count": null,
      "metadata": {
        "id": "kvKU15nwbCzM",
        "outputId": "42c16f90-00f8-44ec-a1f0-0e1860b7c3d6",
        "colab": {
          "base_uri": "https://localhost:8080/"
        }
      },
      "outputs": [
        {
          "output_type": "execute_result",
          "data": {
            "text/plain": [
              "no     22393\n",
              "yes     2893\n",
              "Name: y, dtype: int64"
            ]
          },
          "metadata": {},
          "execution_count": 29
        }
      ],
      "source": [
        "y_train.value_counts()"
      ]
    },
    {
      "cell_type": "markdown",
      "metadata": {
        "id": "mo95kyGWhz_Z"
      },
      "source": [
        "## Encoding"
      ]
    },
    {
      "cell_type": "code",
      "execution_count": null,
      "metadata": {
        "colab": {
          "base_uri": "https://localhost:8080/"
        },
        "id": "05G_nAF0j5XE",
        "outputId": "91808946-dcae-4e26-f003-2f251ef14c5f"
      },
      "outputs": [
        {
          "output_type": "execute_result",
          "data": {
            "text/plain": [
              "Index(['job', 'marital', 'education', 'default', 'housing', 'loan', 'month',\n",
              "       'day_of_week', 'poutcome'],\n",
              "      dtype='object')"
            ]
          },
          "metadata": {},
          "execution_count": 30
        }
      ],
      "source": [
        "# check the categorical columns\n",
        "categorical_cols = X_train.select_dtypes(include='object').columns\n",
        "categorical_cols"
      ]
    },
    {
      "cell_type": "code",
      "execution_count": null,
      "metadata": {
        "id": "1NUqi-tTFf7P"
      },
      "outputs": [],
      "source": [
        "# transform categorical variables\n",
        "month_mapping =   {'jan':0, 'feb':1, 'mar':2, 'apr': 3, 'may':4, 'jun':5, \n",
        "                   'jul':6, 'aug':7, 'sep':8, 'oct':9, 'nov':10, 'dec':11}\n",
        "day_mapping = {'mon':0, 'tue':1, 'wed':2, 'thu':3, 'fri':4}\n",
        "edu_mapping =  {'illiterate':0, 'basic.4y':1, 'basic.6y':2, 'basic.9y':3, \n",
        "                'high.school':4, 'university.degree':5, 'professional.course':6}\n",
        "for df in [X_train, X_test]:\n",
        "    df['Ordinal_month'] = df['month'].map(month_mapping)\n",
        "    df['Ordinal_day'] = df['day_of_week'].map(day_mapping)\n",
        "    df['Ordinal_education'] = df['education'].map(edu_mapping)\n",
        "\n",
        "nominal_cols = ['job', 'marital', 'default', 'housing', 'loan', 'poutcome']\n",
        "X_train_encoded = pd.get_dummies(X_train, columns=nominal_cols, drop_first=True)\n",
        "X_test_encoded  = pd.get_dummies(X_test, columns=nominal_cols, drop_first=True)"
      ]
    },
    {
      "cell_type": "code",
      "execution_count": null,
      "metadata": {
        "colab": {
          "base_uri": "https://localhost:8080/",
          "height": 317
        },
        "id": "ctdS6IbkjqbA",
        "outputId": "22d83a2f-7bde-4c5f-c514-9e30a60cb575"
      },
      "outputs": [
        {
          "output_type": "execute_result",
          "data": {
            "text/plain": [
              "            age  duration  campaign     pdays  previous  Ordinal_month  \\\n",
              "32713  3.688879  6.688355  0.000000  6.906755 -6.907755              4   \n",
              "11320  3.806662  6.398595  0.000000  6.906755 -6.907755              7   \n",
              "1947   3.496508  2.772589  2.302585  6.906755 -6.907755              4   \n",
              "17543  3.850148  4.634729  0.000000  6.906755 -6.907755             10   \n",
              "17723  3.761200  3.218876  0.000000  6.906755 -6.907755              6   \n",
              "\n",
              "       Ordinal_day  Ordinal_education  job_blue-collar  job_entrepreneur  ...  \\\n",
              "32713            4                  5                0                 1  ...   \n",
              "11320            2                  3                0                 0  ...   \n",
              "1947             1                  3                1                 0  ...   \n",
              "17543            4                  5                0                 0  ...   \n",
              "17723            2                  4                0                 0  ...   \n",
              "\n",
              "       job_technician  job_unemployed  marital_married  marital_single  \\\n",
              "32713               0               0                1               0   \n",
              "11320               0               0                1               0   \n",
              "1947                0               0                0               1   \n",
              "17543               0               0                1               0   \n",
              "17723               0               0                1               0   \n",
              "\n",
              "       default_no  default_yes  housing_yes  loan_yes  poutcome_nonexistent  \\\n",
              "32713           1            0            0         0                     1   \n",
              "11320           1            0            1         0                     1   \n",
              "1947            1            0            0         0                     1   \n",
              "17543           1            0            0         0                     1   \n",
              "17723           1            0            1         0                     1   \n",
              "\n",
              "       poutcome_success  \n",
              "32713                 0  \n",
              "11320                 0  \n",
              "1947                  0  \n",
              "17543                 0  \n",
              "17723                 0  \n",
              "\n",
              "[5 rows x 26 columns]"
            ],
            "text/html": [
              "\n",
              "  <div id=\"df-e5d7c1c7-e053-420e-a95e-5ecc61a81b7e\">\n",
              "    <div class=\"colab-df-container\">\n",
              "      <div>\n",
              "<style scoped>\n",
              "    .dataframe tbody tr th:only-of-type {\n",
              "        vertical-align: middle;\n",
              "    }\n",
              "\n",
              "    .dataframe tbody tr th {\n",
              "        vertical-align: top;\n",
              "    }\n",
              "\n",
              "    .dataframe thead th {\n",
              "        text-align: right;\n",
              "    }\n",
              "</style>\n",
              "<table border=\"1\" class=\"dataframe\">\n",
              "  <thead>\n",
              "    <tr style=\"text-align: right;\">\n",
              "      <th></th>\n",
              "      <th>age</th>\n",
              "      <th>duration</th>\n",
              "      <th>campaign</th>\n",
              "      <th>pdays</th>\n",
              "      <th>previous</th>\n",
              "      <th>Ordinal_month</th>\n",
              "      <th>Ordinal_day</th>\n",
              "      <th>Ordinal_education</th>\n",
              "      <th>job_blue-collar</th>\n",
              "      <th>job_entrepreneur</th>\n",
              "      <th>...</th>\n",
              "      <th>job_technician</th>\n",
              "      <th>job_unemployed</th>\n",
              "      <th>marital_married</th>\n",
              "      <th>marital_single</th>\n",
              "      <th>default_no</th>\n",
              "      <th>default_yes</th>\n",
              "      <th>housing_yes</th>\n",
              "      <th>loan_yes</th>\n",
              "      <th>poutcome_nonexistent</th>\n",
              "      <th>poutcome_success</th>\n",
              "    </tr>\n",
              "  </thead>\n",
              "  <tbody>\n",
              "    <tr>\n",
              "      <th>32713</th>\n",
              "      <td>3.688879</td>\n",
              "      <td>6.688355</td>\n",
              "      <td>0.000000</td>\n",
              "      <td>6.906755</td>\n",
              "      <td>-6.907755</td>\n",
              "      <td>4</td>\n",
              "      <td>4</td>\n",
              "      <td>5</td>\n",
              "      <td>0</td>\n",
              "      <td>1</td>\n",
              "      <td>...</td>\n",
              "      <td>0</td>\n",
              "      <td>0</td>\n",
              "      <td>1</td>\n",
              "      <td>0</td>\n",
              "      <td>1</td>\n",
              "      <td>0</td>\n",
              "      <td>0</td>\n",
              "      <td>0</td>\n",
              "      <td>1</td>\n",
              "      <td>0</td>\n",
              "    </tr>\n",
              "    <tr>\n",
              "      <th>11320</th>\n",
              "      <td>3.806662</td>\n",
              "      <td>6.398595</td>\n",
              "      <td>0.000000</td>\n",
              "      <td>6.906755</td>\n",
              "      <td>-6.907755</td>\n",
              "      <td>7</td>\n",
              "      <td>2</td>\n",
              "      <td>3</td>\n",
              "      <td>0</td>\n",
              "      <td>0</td>\n",
              "      <td>...</td>\n",
              "      <td>0</td>\n",
              "      <td>0</td>\n",
              "      <td>1</td>\n",
              "      <td>0</td>\n",
              "      <td>1</td>\n",
              "      <td>0</td>\n",
              "      <td>1</td>\n",
              "      <td>0</td>\n",
              "      <td>1</td>\n",
              "      <td>0</td>\n",
              "    </tr>\n",
              "    <tr>\n",
              "      <th>1947</th>\n",
              "      <td>3.496508</td>\n",
              "      <td>2.772589</td>\n",
              "      <td>2.302585</td>\n",
              "      <td>6.906755</td>\n",
              "      <td>-6.907755</td>\n",
              "      <td>4</td>\n",
              "      <td>1</td>\n",
              "      <td>3</td>\n",
              "      <td>1</td>\n",
              "      <td>0</td>\n",
              "      <td>...</td>\n",
              "      <td>0</td>\n",
              "      <td>0</td>\n",
              "      <td>0</td>\n",
              "      <td>1</td>\n",
              "      <td>1</td>\n",
              "      <td>0</td>\n",
              "      <td>0</td>\n",
              "      <td>0</td>\n",
              "      <td>1</td>\n",
              "      <td>0</td>\n",
              "    </tr>\n",
              "    <tr>\n",
              "      <th>17543</th>\n",
              "      <td>3.850148</td>\n",
              "      <td>4.634729</td>\n",
              "      <td>0.000000</td>\n",
              "      <td>6.906755</td>\n",
              "      <td>-6.907755</td>\n",
              "      <td>10</td>\n",
              "      <td>4</td>\n",
              "      <td>5</td>\n",
              "      <td>0</td>\n",
              "      <td>0</td>\n",
              "      <td>...</td>\n",
              "      <td>0</td>\n",
              "      <td>0</td>\n",
              "      <td>1</td>\n",
              "      <td>0</td>\n",
              "      <td>1</td>\n",
              "      <td>0</td>\n",
              "      <td>0</td>\n",
              "      <td>0</td>\n",
              "      <td>1</td>\n",
              "      <td>0</td>\n",
              "    </tr>\n",
              "    <tr>\n",
              "      <th>17723</th>\n",
              "      <td>3.761200</td>\n",
              "      <td>3.218876</td>\n",
              "      <td>0.000000</td>\n",
              "      <td>6.906755</td>\n",
              "      <td>-6.907755</td>\n",
              "      <td>6</td>\n",
              "      <td>2</td>\n",
              "      <td>4</td>\n",
              "      <td>0</td>\n",
              "      <td>0</td>\n",
              "      <td>...</td>\n",
              "      <td>0</td>\n",
              "      <td>0</td>\n",
              "      <td>1</td>\n",
              "      <td>0</td>\n",
              "      <td>1</td>\n",
              "      <td>0</td>\n",
              "      <td>1</td>\n",
              "      <td>0</td>\n",
              "      <td>1</td>\n",
              "      <td>0</td>\n",
              "    </tr>\n",
              "  </tbody>\n",
              "</table>\n",
              "<p>5 rows × 26 columns</p>\n",
              "</div>\n",
              "      <button class=\"colab-df-convert\" onclick=\"convertToInteractive('df-e5d7c1c7-e053-420e-a95e-5ecc61a81b7e')\"\n",
              "              title=\"Convert this dataframe to an interactive table.\"\n",
              "              style=\"display:none;\">\n",
              "        \n",
              "  <svg xmlns=\"http://www.w3.org/2000/svg\" height=\"24px\"viewBox=\"0 0 24 24\"\n",
              "       width=\"24px\">\n",
              "    <path d=\"M0 0h24v24H0V0z\" fill=\"none\"/>\n",
              "    <path d=\"M18.56 5.44l.94 2.06.94-2.06 2.06-.94-2.06-.94-.94-2.06-.94 2.06-2.06.94zm-11 1L8.5 8.5l.94-2.06 2.06-.94-2.06-.94L8.5 2.5l-.94 2.06-2.06.94zm10 10l.94 2.06.94-2.06 2.06-.94-2.06-.94-.94-2.06-.94 2.06-2.06.94z\"/><path d=\"M17.41 7.96l-1.37-1.37c-.4-.4-.92-.59-1.43-.59-.52 0-1.04.2-1.43.59L10.3 9.45l-7.72 7.72c-.78.78-.78 2.05 0 2.83L4 21.41c.39.39.9.59 1.41.59.51 0 1.02-.2 1.41-.59l7.78-7.78 2.81-2.81c.8-.78.8-2.07 0-2.86zM5.41 20L4 18.59l7.72-7.72 1.47 1.35L5.41 20z\"/>\n",
              "  </svg>\n",
              "      </button>\n",
              "      \n",
              "  <style>\n",
              "    .colab-df-container {\n",
              "      display:flex;\n",
              "      flex-wrap:wrap;\n",
              "      gap: 12px;\n",
              "    }\n",
              "\n",
              "    .colab-df-convert {\n",
              "      background-color: #E8F0FE;\n",
              "      border: none;\n",
              "      border-radius: 50%;\n",
              "      cursor: pointer;\n",
              "      display: none;\n",
              "      fill: #1967D2;\n",
              "      height: 32px;\n",
              "      padding: 0 0 0 0;\n",
              "      width: 32px;\n",
              "    }\n",
              "\n",
              "    .colab-df-convert:hover {\n",
              "      background-color: #E2EBFA;\n",
              "      box-shadow: 0px 1px 2px rgba(60, 64, 67, 0.3), 0px 1px 3px 1px rgba(60, 64, 67, 0.15);\n",
              "      fill: #174EA6;\n",
              "    }\n",
              "\n",
              "    [theme=dark] .colab-df-convert {\n",
              "      background-color: #3B4455;\n",
              "      fill: #D2E3FC;\n",
              "    }\n",
              "\n",
              "    [theme=dark] .colab-df-convert:hover {\n",
              "      background-color: #434B5C;\n",
              "      box-shadow: 0px 1px 3px 1px rgba(0, 0, 0, 0.15);\n",
              "      filter: drop-shadow(0px 1px 2px rgba(0, 0, 0, 0.3));\n",
              "      fill: #FFFFFF;\n",
              "    }\n",
              "  </style>\n",
              "\n",
              "      <script>\n",
              "        const buttonEl =\n",
              "          document.querySelector('#df-e5d7c1c7-e053-420e-a95e-5ecc61a81b7e button.colab-df-convert');\n",
              "        buttonEl.style.display =\n",
              "          google.colab.kernel.accessAllowed ? 'block' : 'none';\n",
              "\n",
              "        async function convertToInteractive(key) {\n",
              "          const element = document.querySelector('#df-e5d7c1c7-e053-420e-a95e-5ecc61a81b7e');\n",
              "          const dataTable =\n",
              "            await google.colab.kernel.invokeFunction('convertToInteractive',\n",
              "                                                     [key], {});\n",
              "          if (!dataTable) return;\n",
              "\n",
              "          const docLinkHtml = 'Like what you see? Visit the ' +\n",
              "            '<a target=\"_blank\" href=https://colab.research.google.com/notebooks/data_table.ipynb>data table notebook</a>'\n",
              "            + ' to learn more about interactive tables.';\n",
              "          element.innerHTML = '';\n",
              "          dataTable['output_type'] = 'display_data';\n",
              "          await google.colab.output.renderOutput(dataTable, element);\n",
              "          const docLink = document.createElement('div');\n",
              "          docLink.innerHTML = docLinkHtml;\n",
              "          element.appendChild(docLink);\n",
              "        }\n",
              "      </script>\n",
              "    </div>\n",
              "  </div>\n",
              "  "
            ]
          },
          "metadata": {},
          "execution_count": 32
        }
      ],
      "source": [
        "# drop already encoded categorical columns\n",
        "X_train_encoded.drop(['month', 'day_of_week', 'education'], axis=1, inplace=True)\n",
        "X_test_encoded.drop(['month', 'day_of_week', 'education'], axis=1, inplace=True) \n",
        "X_train_encoded.head()"
      ]
    },
    {
      "cell_type": "markdown",
      "metadata": {
        "id": "d03evWhVi8C5"
      },
      "source": [
        "## Scaling"
      ]
    },
    {
      "cell_type": "code",
      "execution_count": null,
      "metadata": {
        "colab": {
          "base_uri": "https://localhost:8080/",
          "height": 254
        },
        "id": "dAo_SxSpta5C",
        "outputId": "153a14ff-d0eb-41fb-888a-bd53376226b7"
      },
      "outputs": [
        {
          "output_type": "execute_result",
          "data": {
            "text/plain": [
              "            age  duration  campaign     pdays  previous  Ordinal_month  \\\n",
              "32713  0.138774  1.628132 -0.935387  0.195874 -0.402502      -0.793136   \n",
              "11320  0.602750  1.319047 -0.935387  0.195874 -0.402502       0.669006   \n",
              "1947  -0.619026 -2.548801  2.407873  0.195874 -0.402502      -0.793136   \n",
              "\n",
              "       Ordinal_day  Ordinal_education  job_blue-collar  job_entrepreneur  ...  \\\n",
              "32713     1.422734           0.669316        -0.535922          5.281883  ...   \n",
              "11320     0.009807          -0.694504        -0.535922         -0.189326  ...   \n",
              "1947     -0.696657          -0.694504         1.865943         -0.189326  ...   \n",
              "\n",
              "       job_technician  job_unemployed  marital_married  marital_single  \\\n",
              "32713       -0.445408       -0.161145         0.809558       -0.627276   \n",
              "11320       -0.445408       -0.161145         0.809558       -0.627276   \n",
              "1947        -0.445408       -0.161145        -1.235242        1.594195   \n",
              "\n",
              "       default_no  default_yes  housing_yes  loan_yes  poutcome_nonexistent  \\\n",
              "32713    0.496153    -0.008894    -1.077931 -0.429625              0.403073   \n",
              "11320    0.496153    -0.008894     0.927703 -0.429625              0.403073   \n",
              "1947     0.496153    -0.008894    -1.077931 -0.429625              0.403073   \n",
              "\n",
              "       poutcome_success  \n",
              "32713          -0.18955  \n",
              "11320          -0.18955  \n",
              "1947           -0.18955  \n",
              "\n",
              "[3 rows x 26 columns]"
            ],
            "text/html": [
              "\n",
              "  <div id=\"df-67048e98-f510-422d-8b75-79d13dde6104\">\n",
              "    <div class=\"colab-df-container\">\n",
              "      <div>\n",
              "<style scoped>\n",
              "    .dataframe tbody tr th:only-of-type {\n",
              "        vertical-align: middle;\n",
              "    }\n",
              "\n",
              "    .dataframe tbody tr th {\n",
              "        vertical-align: top;\n",
              "    }\n",
              "\n",
              "    .dataframe thead th {\n",
              "        text-align: right;\n",
              "    }\n",
              "</style>\n",
              "<table border=\"1\" class=\"dataframe\">\n",
              "  <thead>\n",
              "    <tr style=\"text-align: right;\">\n",
              "      <th></th>\n",
              "      <th>age</th>\n",
              "      <th>duration</th>\n",
              "      <th>campaign</th>\n",
              "      <th>pdays</th>\n",
              "      <th>previous</th>\n",
              "      <th>Ordinal_month</th>\n",
              "      <th>Ordinal_day</th>\n",
              "      <th>Ordinal_education</th>\n",
              "      <th>job_blue-collar</th>\n",
              "      <th>job_entrepreneur</th>\n",
              "      <th>...</th>\n",
              "      <th>job_technician</th>\n",
              "      <th>job_unemployed</th>\n",
              "      <th>marital_married</th>\n",
              "      <th>marital_single</th>\n",
              "      <th>default_no</th>\n",
              "      <th>default_yes</th>\n",
              "      <th>housing_yes</th>\n",
              "      <th>loan_yes</th>\n",
              "      <th>poutcome_nonexistent</th>\n",
              "      <th>poutcome_success</th>\n",
              "    </tr>\n",
              "  </thead>\n",
              "  <tbody>\n",
              "    <tr>\n",
              "      <th>32713</th>\n",
              "      <td>0.138774</td>\n",
              "      <td>1.628132</td>\n",
              "      <td>-0.935387</td>\n",
              "      <td>0.195874</td>\n",
              "      <td>-0.402502</td>\n",
              "      <td>-0.793136</td>\n",
              "      <td>1.422734</td>\n",
              "      <td>0.669316</td>\n",
              "      <td>-0.535922</td>\n",
              "      <td>5.281883</td>\n",
              "      <td>...</td>\n",
              "      <td>-0.445408</td>\n",
              "      <td>-0.161145</td>\n",
              "      <td>0.809558</td>\n",
              "      <td>-0.627276</td>\n",
              "      <td>0.496153</td>\n",
              "      <td>-0.008894</td>\n",
              "      <td>-1.077931</td>\n",
              "      <td>-0.429625</td>\n",
              "      <td>0.403073</td>\n",
              "      <td>-0.18955</td>\n",
              "    </tr>\n",
              "    <tr>\n",
              "      <th>11320</th>\n",
              "      <td>0.602750</td>\n",
              "      <td>1.319047</td>\n",
              "      <td>-0.935387</td>\n",
              "      <td>0.195874</td>\n",
              "      <td>-0.402502</td>\n",
              "      <td>0.669006</td>\n",
              "      <td>0.009807</td>\n",
              "      <td>-0.694504</td>\n",
              "      <td>-0.535922</td>\n",
              "      <td>-0.189326</td>\n",
              "      <td>...</td>\n",
              "      <td>-0.445408</td>\n",
              "      <td>-0.161145</td>\n",
              "      <td>0.809558</td>\n",
              "      <td>-0.627276</td>\n",
              "      <td>0.496153</td>\n",
              "      <td>-0.008894</td>\n",
              "      <td>0.927703</td>\n",
              "      <td>-0.429625</td>\n",
              "      <td>0.403073</td>\n",
              "      <td>-0.18955</td>\n",
              "    </tr>\n",
              "    <tr>\n",
              "      <th>1947</th>\n",
              "      <td>-0.619026</td>\n",
              "      <td>-2.548801</td>\n",
              "      <td>2.407873</td>\n",
              "      <td>0.195874</td>\n",
              "      <td>-0.402502</td>\n",
              "      <td>-0.793136</td>\n",
              "      <td>-0.696657</td>\n",
              "      <td>-0.694504</td>\n",
              "      <td>1.865943</td>\n",
              "      <td>-0.189326</td>\n",
              "      <td>...</td>\n",
              "      <td>-0.445408</td>\n",
              "      <td>-0.161145</td>\n",
              "      <td>-1.235242</td>\n",
              "      <td>1.594195</td>\n",
              "      <td>0.496153</td>\n",
              "      <td>-0.008894</td>\n",
              "      <td>-1.077931</td>\n",
              "      <td>-0.429625</td>\n",
              "      <td>0.403073</td>\n",
              "      <td>-0.18955</td>\n",
              "    </tr>\n",
              "  </tbody>\n",
              "</table>\n",
              "<p>3 rows × 26 columns</p>\n",
              "</div>\n",
              "      <button class=\"colab-df-convert\" onclick=\"convertToInteractive('df-67048e98-f510-422d-8b75-79d13dde6104')\"\n",
              "              title=\"Convert this dataframe to an interactive table.\"\n",
              "              style=\"display:none;\">\n",
              "        \n",
              "  <svg xmlns=\"http://www.w3.org/2000/svg\" height=\"24px\"viewBox=\"0 0 24 24\"\n",
              "       width=\"24px\">\n",
              "    <path d=\"M0 0h24v24H0V0z\" fill=\"none\"/>\n",
              "    <path d=\"M18.56 5.44l.94 2.06.94-2.06 2.06-.94-2.06-.94-.94-2.06-.94 2.06-2.06.94zm-11 1L8.5 8.5l.94-2.06 2.06-.94-2.06-.94L8.5 2.5l-.94 2.06-2.06.94zm10 10l.94 2.06.94-2.06 2.06-.94-2.06-.94-.94-2.06-.94 2.06-2.06.94z\"/><path d=\"M17.41 7.96l-1.37-1.37c-.4-.4-.92-.59-1.43-.59-.52 0-1.04.2-1.43.59L10.3 9.45l-7.72 7.72c-.78.78-.78 2.05 0 2.83L4 21.41c.39.39.9.59 1.41.59.51 0 1.02-.2 1.41-.59l7.78-7.78 2.81-2.81c.8-.78.8-2.07 0-2.86zM5.41 20L4 18.59l7.72-7.72 1.47 1.35L5.41 20z\"/>\n",
              "  </svg>\n",
              "      </button>\n",
              "      \n",
              "  <style>\n",
              "    .colab-df-container {\n",
              "      display:flex;\n",
              "      flex-wrap:wrap;\n",
              "      gap: 12px;\n",
              "    }\n",
              "\n",
              "    .colab-df-convert {\n",
              "      background-color: #E8F0FE;\n",
              "      border: none;\n",
              "      border-radius: 50%;\n",
              "      cursor: pointer;\n",
              "      display: none;\n",
              "      fill: #1967D2;\n",
              "      height: 32px;\n",
              "      padding: 0 0 0 0;\n",
              "      width: 32px;\n",
              "    }\n",
              "\n",
              "    .colab-df-convert:hover {\n",
              "      background-color: #E2EBFA;\n",
              "      box-shadow: 0px 1px 2px rgba(60, 64, 67, 0.3), 0px 1px 3px 1px rgba(60, 64, 67, 0.15);\n",
              "      fill: #174EA6;\n",
              "    }\n",
              "\n",
              "    [theme=dark] .colab-df-convert {\n",
              "      background-color: #3B4455;\n",
              "      fill: #D2E3FC;\n",
              "    }\n",
              "\n",
              "    [theme=dark] .colab-df-convert:hover {\n",
              "      background-color: #434B5C;\n",
              "      box-shadow: 0px 1px 3px 1px rgba(0, 0, 0, 0.15);\n",
              "      filter: drop-shadow(0px 1px 2px rgba(0, 0, 0, 0.3));\n",
              "      fill: #FFFFFF;\n",
              "    }\n",
              "  </style>\n",
              "\n",
              "      <script>\n",
              "        const buttonEl =\n",
              "          document.querySelector('#df-67048e98-f510-422d-8b75-79d13dde6104 button.colab-df-convert');\n",
              "        buttonEl.style.display =\n",
              "          google.colab.kernel.accessAllowed ? 'block' : 'none';\n",
              "\n",
              "        async function convertToInteractive(key) {\n",
              "          const element = document.querySelector('#df-67048e98-f510-422d-8b75-79d13dde6104');\n",
              "          const dataTable =\n",
              "            await google.colab.kernel.invokeFunction('convertToInteractive',\n",
              "                                                     [key], {});\n",
              "          if (!dataTable) return;\n",
              "\n",
              "          const docLinkHtml = 'Like what you see? Visit the ' +\n",
              "            '<a target=\"_blank\" href=https://colab.research.google.com/notebooks/data_table.ipynb>data table notebook</a>'\n",
              "            + ' to learn more about interactive tables.';\n",
              "          element.innerHTML = '';\n",
              "          dataTable['output_type'] = 'display_data';\n",
              "          await google.colab.output.renderOutput(dataTable, element);\n",
              "          const docLink = document.createElement('div');\n",
              "          docLink.innerHTML = docLinkHtml;\n",
              "          element.appendChild(docLink);\n",
              "        }\n",
              "      </script>\n",
              "    </div>\n",
              "  </div>\n",
              "  "
            ]
          },
          "metadata": {},
          "execution_count": 33
        }
      ],
      "source": [
        "# scale the data\n",
        "scaler = StandardScaler()\n",
        "X_train_scaled = pd.DataFrame(scaler.fit_transform(X_train_encoded), \n",
        "                               columns=X_train_encoded.columns, index=X_train_encoded.index)\n",
        "X_test_scaled = pd.DataFrame(scaler.transform(X_test_encoded), \n",
        "                               columns=X_test_encoded.columns, index=X_test_encoded.index)\n",
        "X_train_scaled.head(3)"
      ]
    },
    {
      "cell_type": "code",
      "execution_count": null,
      "metadata": {
        "id": "BiMfltT0LpDX"
      },
      "outputs": [],
      "source": [
        "X_train_scaled = X_train_scaled.drop(['Ordinal_day', 'default_yes', 'default_no', 'pdays'], axis=1)\n",
        "X_test_scaled = X_test_scaled.drop(['Ordinal_day', 'default_yes', 'default_no', 'pdays'], axis=1)\n"
      ]
    },
    {
      "cell_type": "markdown",
      "metadata": {
        "id": "FFdkRPvKM3Wn"
      },
      "source": [
        "\"Ordinal_day\" and \"month\" columns, as they may not have a significant impact on the target variable.\n",
        "\n",
        "\"default\" column, as it may not be significant due to the majority of the data being of one value.\n",
        "\n",
        "\"pdays\" column, as the majority of values are the same and may not provide useful information for the model."
      ]
    },
    {
      "cell_type": "markdown",
      "metadata": {
        "id": "p96NEAWfbJzy"
      },
      "source": [
        "## Balancing the classes using SMOTE"
      ]
    },
    {
      "cell_type": "code",
      "execution_count": null,
      "metadata": {
        "id": "JGCb6hVrbCzQ"
      },
      "outputs": [],
      "source": [
        "## Balancing the classes using SMOTE\n",
        "from imblearn.over_sampling import SMOTE\n",
        "\n",
        "sm = SMOTE(random_state=27, sampling_strategy = 1.0)\n",
        "X_train_scaled, y_train = sm.fit_resample(X_train_scaled, y_train)"
      ]
    },
    {
      "cell_type": "code",
      "execution_count": null,
      "metadata": {
        "id": "-cpvwWdrbCzQ",
        "outputId": "50a81856-b2e6-425b-f7c2-8843faf19b98",
        "colab": {
          "base_uri": "https://localhost:8080/"
        }
      },
      "outputs": [
        {
          "output_type": "execute_result",
          "data": {
            "text/plain": [
              "yes    22393\n",
              "no     22393\n",
              "Name: y, dtype: int64"
            ]
          },
          "metadata": {},
          "execution_count": 37
        }
      ],
      "source": [
        "#Checking the count by class\n",
        "y_train.value_counts()"
      ]
    },
    {
      "cell_type": "markdown",
      "metadata": {
        "id": "eZn-r3iuZiOK"
      },
      "source": [
        "# Modeling"
      ]
    },
    {
      "cell_type": "markdown",
      "metadata": {
        "id": "rihU91K1bCzY"
      },
      "source": [
        "## 1. DecisionTreeClassifier"
      ]
    },
    {
      "cell_type": "code",
      "execution_count": null,
      "metadata": {
        "id": "USgI8FcSbCzZ"
      },
      "outputs": [],
      "source": [
        "# Create pipeline\n",
        "dtc_pipeline = Pipeline([\n",
        "    ('dtc', DecisionTreeClassifier(random_state = 42))\n",
        "])"
      ]
    },
    {
      "cell_type": "markdown",
      "metadata": {
        "id": "iwZFel-9bCzZ"
      },
      "source": [
        "## 2. LogisticRegression"
      ]
    },
    {
      "cell_type": "code",
      "execution_count": null,
      "metadata": {
        "id": "WeskPTIxbCzZ"
      },
      "outputs": [],
      "source": [
        "# Create pipeline\n",
        "logreg_pipeline = Pipeline([\n",
        "    ('logreg', LogisticRegression(max_iter=10000,  random_state = 42))\n",
        "])"
      ]
    },
    {
      "cell_type": "markdown",
      "metadata": {
        "id": "u_ktEtR8bCza"
      },
      "source": [
        "## 3. RandomForestClassifier"
      ]
    },
    {
      "cell_type": "code",
      "execution_count": null,
      "metadata": {
        "id": "oMLFOaUHbCza"
      },
      "outputs": [],
      "source": [
        "# Create pipeline\n",
        "rfc_pipeline = Pipeline([\n",
        "    ('rfc', RandomForestClassifier(random_state = 42))\n",
        "])"
      ]
    },
    {
      "cell_type": "markdown",
      "metadata": {
        "id": "rurZ_DwsbCza"
      },
      "source": [
        "## 4. K-Nearest Neighbors"
      ]
    },
    {
      "cell_type": "code",
      "execution_count": null,
      "metadata": {
        "id": "I5L0r8gUbCzb"
      },
      "outputs": [],
      "source": [
        "# Create pipeline\n",
        "knn_pipeline = Pipeline([\n",
        "    ('knn', KNeighborsClassifier())\n",
        "])\n"
      ]
    },
    {
      "cell_type": "code",
      "execution_count": null,
      "metadata": {
        "id": "Y1Vd1IPybCzc",
        "outputId": "03f96f11-ff40-4a59-fce6-efd579a63780",
        "scrolled": false,
        "colab": {
          "base_uri": "https://localhost:8080/",
          "height": 1000
        }
      },
      "outputs": [
        {
          "output_type": "stream",
          "name": "stdout",
          "text": [
            "Classification report for Decision Tree(Train):\n",
            "              precision    recall  f1-score   support\n",
            "\n",
            "          no       1.00      1.00      1.00     22393\n",
            "         yes       1.00      1.00      1.00     22393\n",
            "\n",
            "    accuracy                           1.00     44786\n",
            "   macro avg       1.00      1.00      1.00     44786\n",
            "weighted avg       1.00      1.00      1.00     44786\n",
            "\n",
            "Classification report for Decision Tree(Test):\n",
            "              precision    recall  f1-score   support\n",
            "\n",
            "          no       0.94      0.90      0.92      5631\n",
            "         yes       0.38      0.51      0.44       691\n",
            "\n",
            "    accuracy                           0.86      6322\n",
            "   macro avg       0.66      0.71      0.68      6322\n",
            "weighted avg       0.88      0.86      0.87      6322\n",
            "\n",
            "--------------------------------------------------\n"
          ]
        },
        {
          "output_type": "display_data",
          "data": {
            "text/plain": [
              "<Figure size 576x432 with 1 Axes>"
            ],
            "image/png": "[encoded data removed]"
          },
          "metadata": {
            "needs_background": "light"
          }
        },
        {
          "output_type": "stream",
          "name": "stdout",
          "text": [
            "Classification report for Logistic Regression(Train):\n",
            "              precision    recall  f1-score   support\n",
            "\n",
            "          no       0.83      0.81      0.82     22393\n",
            "         yes       0.81      0.83      0.82     22393\n",
            "\n",
            "    accuracy                           0.82     44786\n",
            "   macro avg       0.82      0.82      0.82     44786\n",
            "weighted avg       0.82      0.82      0.82     44786\n",
            "\n",
            "Classification report for Logistic Regression(Test):\n",
            "              precision    recall  f1-score   support\n",
            "\n",
            "          no       0.97      0.81      0.88      5631\n",
            "         yes       0.34      0.79      0.47       691\n",
            "\n",
            "    accuracy                           0.81      6322\n",
            "   macro avg       0.65      0.80      0.68      6322\n",
            "weighted avg       0.90      0.81      0.84      6322\n",
            "\n",
            "--------------------------------------------------\n"
          ]
        },
        {
          "output_type": "display_data",
          "data": {
            "text/plain": [
              "<Figure size 576x432 with 1 Axes>"
            ],
            "image/png": "[encoded data removed]"
          },
          "metadata": {
            "needs_background": "light"
          }
        },
        {
          "output_type": "stream",
          "name": "stdout",
          "text": [
            "Classification report for Random Forest Classifier(Train):\n",
            "              precision    recall  f1-score   support\n",
            "\n",
            "          no       1.00      1.00      1.00     22393\n",
            "         yes       1.00      1.00      1.00     22393\n",
            "\n",
            "    accuracy                           1.00     44786\n",
            "   macro avg       1.00      1.00      1.00     44786\n",
            "weighted avg       1.00      1.00      1.00     44786\n",
            "\n",
            "Classification report for Random Forest Classifier(Test):\n",
            "              precision    recall  f1-score   support\n",
            "\n",
            "          no       0.95      0.93      0.94      5631\n",
            "         yes       0.50      0.57      0.53       691\n",
            "\n",
            "    accuracy                           0.89      6322\n",
            "   macro avg       0.72      0.75      0.73      6322\n",
            "weighted avg       0.90      0.89      0.89      6322\n",
            "\n",
            "--------------------------------------------------\n"
          ]
        },
        {
          "output_type": "display_data",
          "data": {
            "text/plain": [
              "<Figure size 576x432 with 1 Axes>"
            ],
            "image/png": "[encoded data removed]"
          },
          "metadata": {
            "needs_background": "light"
          }
        },
        {
          "output_type": "stream",
          "name": "stdout",
          "text": [
            "Classification report for KNN Classifier(Train):\n",
            "              precision    recall  f1-score   support\n",
            "\n",
            "          no       0.99      0.88      0.93     22393\n",
            "         yes       0.89      0.99      0.94     22393\n",
            "\n",
            "    accuracy                           0.94     44786\n",
            "   macro avg       0.94      0.94      0.94     44786\n",
            "weighted avg       0.94      0.94      0.94     44786\n",
            "\n",
            "Classification report for KNN Classifier(Test):\n",
            "              precision    recall  f1-score   support\n",
            "\n",
            "          no       0.95      0.84      0.89      5631\n",
            "         yes       0.32      0.64      0.43       691\n",
            "\n",
            "    accuracy                           0.81      6322\n",
            "   macro avg       0.64      0.74      0.66      6322\n",
            "weighted avg       0.88      0.81      0.84      6322\n",
            "\n",
            "--------------------------------------------------\n"
          ]
        },
        {
          "output_type": "display_data",
          "data": {
            "text/plain": [
              "<Figure size 576x432 with 1 Axes>"
            ],
            "image/png": "[encoded data removed]"
          },
          "metadata": {
            "needs_background": "light"
          }
        }
      ],
      "source": [
        "# Create a list of the three models and their corresponding pipelines\n",
        "models = [\n",
        "    ('Decision Tree', dtc_pipeline),\n",
        "    ('Logistic Regression', logreg_pipeline),\n",
        "    ('Random Forest Classifier', rfc_pipeline),\n",
        "    ('KNN Classifier', knn_pipeline)\n",
        "]\n",
        "\n",
        "# Loop through each model and pipeline, fit the model and make predictions\n",
        "for name, pipeline in models:\n",
        "    pipeline.fit(X_train_scaled, y_train)\n",
        "    y_pred = pipeline.predict(X_test_scaled)\n",
        "    train_pred = pipeline.predict(X_train_scaled)\n",
        "    \n",
        "    # Calculate confusion matrix and classification report\n",
        "    cm = confusion_matrix(y_test, y_pred)\n",
        "    print(f'Classification report for {name}(Train):')\n",
        "    print(classification_report(y_train, train_pred))\n",
        "    print(f'Classification report for {name}(Test):')\n",
        "    print(classification_report(y_test, y_pred))\n",
        "    print('-' * 50)\n",
        "    \n",
        "    # Visualize confusion matrix\n",
        "    plt.figure(figsize=(8, 6))\n",
        "    sns.heatmap(cm, annot=True, cmap='Blues', fmt='g', cbar=False)\n",
        "    plt.title(f'Confusion Matrix for {name}')\n",
        "    plt.xlabel('Predicted label')\n",
        "    plt.ylabel('True label')\n",
        "    plt.show()\n"
      ]
    },
    {
      "cell_type": "markdown",
      "metadata": {
        "id": "RE9p8cNPP2Vm"
      },
      "source": [
        "## 5. DecisionTreeClassifier(Hyperparameter tuned):\n",
        "\n",
        "The DecisionTreeClassifier is a basic classification algorithm that can handle both categorical and numerical data. The goal is to create a tree-like model that can predict the target variable by following a path of decision rules. In our code, we have set a maximum depth of the tree to avoid overfitting."
      ]
    },
    {
      "cell_type": "code",
      "execution_count": null,
      "metadata": {
        "colab": {
          "base_uri": "https://localhost:8080/"
        },
        "id": "TsyR1fPOq1qs",
        "outputId": "5f1aa575-f2f7-433d-f426-619e2d652ab4"
      },
      "outputs": [
        {
          "output_type": "stream",
          "name": "stdout",
          "text": [
            "Best Hyperparameters for Decision Tree Classifier:  {'dtc__criterion': 'gini', 'dtc__max_depth': 15, 'dtc__min_samples_leaf': 1, 'dtc__min_samples_split': 2}\n",
            "Accuracy score for Decision Tree Classifier:  0.896217946798842\n"
          ]
        }
      ],
      "source": [
        "# Define hyperparameters for tuning\n",
        "dtc_params = {\n",
        "    'dtc__criterion': ['gini', 'entropy'],\n",
        "    'dtc__max_depth': [None, 5, 10, 15],\n",
        "    'dtc__min_samples_split': [2, 5, 10],\n",
        "    'dtc__min_samples_leaf': [1, 2, 4]\n",
        "}\n",
        "\n",
        "# Perform grid search cross-validation to find the best hyperparameters\n",
        "dtc_cv = GridSearchCV(dtc_pipeline, dtc_params, cv=3, n_jobs=-1)\n",
        "dtc_cv.fit(X_train_scaled, y_train)\n",
        "\n",
        "# Print the best hyperparameters and accuracy score\n",
        "print(\"Best Hyperparameters for Decision Tree Classifier: \", dtc_cv.best_params_)\n",
        "print(\"Accuracy score for Decision Tree Classifier: \", dtc_cv.best_score_)\n"
      ]
    },
    {
      "cell_type": "markdown",
      "metadata": {
        "id": "jr-4zPpfSvX_"
      },
      "source": [
        "We can use these hyperparameters to predict the accuracy score for our model. After fitting the model with the training data and testing it on the testing data, we obtained an accuracy score of 0.896217946798842"
      ]
    },
    {
      "cell_type": "code",
      "execution_count": null,
      "metadata": {
        "id": "22r_R_QIbCzf"
      },
      "outputs": [],
      "source": [
        "# Create pipeline\n",
        "dtc_pipeline_tuned = Pipeline([\n",
        "    ('dtc', DecisionTreeClassifier(criterion = 'gini',\n",
        "                                   max_depth = None,\n",
        "                                   min_samples_leaf = 1,\n",
        "                                   min_samples_split = 2,\n",
        "                                   random_state = 42\n",
        "                                  ))\n",
        "])"
      ]
    },
    {
      "cell_type": "markdown",
      "metadata": {
        "id": "CksZbvXpTVKe"
      },
      "source": [
        "## 6. LogisticRegression(Hyperparameter tuned):\n",
        "\n",
        "Logistic regression is a popular classification algorithm that uses a logistic function to model the probability of a binary target variable. It assumes a linear relationship between the features and the target variable, and applies a sigmoid function to convert the output to a probability value between 0 and 1. The logistic regression model is a parametric model, which means it makes assumptions about the distribution of the data.  we have used a simple L2 regularization to prevent overfitting."
      ]
    },
    {
      "cell_type": "code",
      "execution_count": null,
      "metadata": {
        "colab": {
          "base_uri": "https://localhost:8080/"
        },
        "id": "KAbFmfwBTGXU",
        "outputId": "693f3794-7b80-401c-f75c-27f6188ae56c"
      },
      "outputs": [
        {
          "output_type": "stream",
          "name": "stdout",
          "text": [
            "Best Hyperparameters for Logistic Regression:  {'logreg__C': 1.623776739188721, 'logreg__penalty': 'l1', 'logreg__solver': 'liblinear'}\n",
            "Accuracy score for Logistic Regression:  0.8201000201118688\n"
          ]
        }
      ],
      "source": [
        "# define the parameter grid\n",
        "logreg_params = {\n",
        "    'logreg__penalty': ['l1'],\n",
        "    'logreg__C': np.logspace(-4, 4, 20),\n",
        "    'logreg__solver': ['liblinear']\n",
        "}\n",
        "\n",
        "\n",
        "# Perform grid search cross-validation to find the best hyperparameters\n",
        "logreg_cv = GridSearchCV(logreg_pipeline, logreg_params, cv=3, n_jobs=-1)\n",
        "logreg_cv.fit(X_train_scaled, y_train)\n",
        "\n",
        "# Print the best hyperparameters and accuracy score\n",
        "print(\"Best Hyperparameters for Logistic Regression: \", logreg_cv.best_params_)\n",
        "print(\"Accuracy score for Logistic Regression: \", logreg_cv.best_score_)\n"
      ]
    },
    {
      "cell_type": "markdown",
      "metadata": {
        "id": "gRho60WDX8yK"
      },
      "source": [
        "the logistic regression model achieved an accuracy score of 0.8201000201118688 with the best hyperparameters of C=0.2336, penalty='l1', and solver='liblinear'. This indicates that the model correctly classified 82.01% of the test data."
      ]
    },
    {
      "cell_type": "code",
      "execution_count": null,
      "metadata": {
        "id": "OhztvjMJbCzh"
      },
      "outputs": [],
      "source": [
        "# Create pipeline\n",
        "logreg_pipeline_tuned = Pipeline([\n",
        "    ('logreg', LogisticRegression(max_iter=10000,\n",
        "                                  C = 0.08858667904100823 ,\n",
        "                                  penalty = 'l1',\n",
        "                                  solver = 'liblinear',\n",
        "                                  random_state = 42))\n",
        "])"
      ]
    },
    {
      "cell_type": "markdown",
      "metadata": {
        "id": "aQpNM_vSUmjF"
      },
      "source": [
        "## 7. RandomForestClassifier(Hyperparameter tuned):\n",
        "\n",
        "Random forests are an ensemble learning method that combines multiple decision trees to improve the accuracy and robustness of the model. Random forests use bagging to randomly sample the data and features used to build each tree, and then aggregate the predictions of all trees. This helps to reduce overfitting and improve the generalization of the model.  we have set the number of estimators to 100, meaning the model will use 100 decision trees."
      ]
    },
    {
      "cell_type": "code",
      "execution_count": null,
      "metadata": {
        "colab": {
          "base_uri": "https://localhost:8080/"
        },
        "id": "b0L_zMfTUkzq",
        "outputId": "51dca9b5-65f1-4430-a9a2-1d167686b412"
      },
      "outputs": [
        {
          "output_type": "stream",
          "name": "stdout",
          "text": [
            "Best Hyperparameters for Random Forest Classifier:  {'rfc__max_depth': None, 'rfc__min_samples_leaf': 1, 'rfc__min_samples_split': 2, 'rfc__n_estimators': 100}\n",
            "Accuracy score for Random Forest Classifier:  0.9387310906493666\n"
          ]
        }
      ],
      "source": [
        "# Define hyperparameters for tuning\n",
        "rfc_params = {\n",
        "    'rfc__n_estimators': [100, 200, 500],\n",
        "    'rfc__max_depth': [None, 5, 10, 15],\n",
        "    'rfc__min_samples_split': [2, 5, 10],\n",
        "    'rfc__min_samples_leaf': [1, 2, 4]\n",
        "}\n",
        "\n",
        "# Perform grid search cross-validation to find the best hyperparameters\n",
        "rfc_cv = GridSearchCV(rfc_pipeline, rfc_params, cv=3, n_jobs=-1)\n",
        "rfc_cv.fit(X_train_scaled, y_train)\n",
        "\n",
        "# Print the best hyperparameters and accuracy score\n",
        "print(\"Best Hyperparameters for Random Forest Classifier: \", rfc_cv.best_params_)\n",
        "print(\"Accuracy score for Random Forest Classifier: \", rfc_cv.best_score_)\n"
      ]
    },
    {
      "cell_type": "code",
      "execution_count": null,
      "metadata": {
        "id": "QxpqSQ9EbCzi"
      },
      "outputs": [],
      "source": [
        "# Create pipeline\n",
        "rfc_pipeline_tuned = Pipeline([\n",
        "    ('rfc', RandomForestClassifier(random_state = 42,\n",
        "                                  max_depth = None,\n",
        "                                  min_samples_leaf = 1,\n",
        "                                  min_samples_split = 2,\n",
        "                                  n_estimators = 100))\n",
        "])"
      ]
    },
    {
      "cell_type": "markdown",
      "metadata": {
        "id": "PH28MFzgbCzj"
      },
      "source": [
        "## 8. K-Nearest Neighbors(Hyperaparameter tuned):"
      ]
    },
    {
      "cell_type": "code",
      "execution_count": null,
      "metadata": {
        "colab": {
          "base_uri": "https://localhost:8080/"
        },
        "id": "dArtSUR1eCRQ",
        "outputId": "db01f654-b58f-497c-8df0-c707b6128ec1"
      },
      "outputs": [
        {
          "output_type": "stream",
          "name": "stdout",
          "text": [
            "Best Hyperparameters for KNN Classifier:  {'knn__n_neighbors': 3, 'knn__p': 1, 'knn__weights': 'distance'}\n",
            "Accuracy score for KNN Classifier:  0.932099341043062\n"
          ]
        }
      ],
      "source": [
        "# Define hyperparameters for tuning\n",
        "knn_params = {\n",
        "    'knn__n_neighbors': [3, 5, 7, 9],\n",
        "    'knn__weights': ['uniform', 'distance'],\n",
        "    'knn__p': [1, 2]\n",
        "}\n",
        "\n",
        "# Perform grid search using the defined pipeline and hyperparameters\n",
        "knn_grid = GridSearchCV(knn_pipeline, knn_params, cv=5, n_jobs=-1)\n",
        "knn_grid.fit(X_train_scaled, y_train)\n",
        "\n",
        "# Print the best hyperparameters and accuracy score for the KNN classifier\n",
        "print(\"Best Hyperparameters for KNN Classifier: \", knn_grid.best_params_)\n",
        "print(\"Accuracy score for KNN Classifier: \", knn_grid.best_score_)\n"
      ]
    },
    {
      "cell_type": "code",
      "execution_count": null,
      "metadata": {
        "id": "_yO1BtAxbCzk"
      },
      "outputs": [],
      "source": [
        "# Create pipeline\n",
        "knn_pipeline_tuned = Pipeline([\n",
        "    ('knn', KNeighborsClassifier(n_neighbors = 3,\n",
        "                                p = 1,\n",
        "                                weights = 'distance'))\n",
        "])\n"
      ]
    },
    {
      "cell_type": "code",
      "execution_count": null,
      "metadata": {
        "colab": {
          "base_uri": "https://localhost:8080/",
          "height": 1000
        },
        "id": "kkuREj1XkBjl",
        "outputId": "3f163182-1c0a-4f18-db00-062cd9ac42a5",
        "scrolled": false
      },
      "outputs": [
        {
          "output_type": "stream",
          "name": "stdout",
          "text": [
            "Classification report for Decision Tree(Tuned)(Train):\n",
            "              precision    recall  f1-score   support\n",
            "\n",
            "          no       1.00      1.00      1.00     22393\n",
            "         yes       1.00      1.00      1.00     22393\n",
            "\n",
            "    accuracy                           1.00     44786\n",
            "   macro avg       1.00      1.00      1.00     44786\n",
            "weighted avg       1.00      1.00      1.00     44786\n",
            "\n",
            "Classification report for Decision Tree(Tuned)(Test):\n",
            "              precision    recall  f1-score   support\n",
            "\n",
            "          no       0.94      0.90      0.92      5631\n",
            "         yes       0.38      0.51      0.44       691\n",
            "\n",
            "    accuracy                           0.86      6322\n",
            "   macro avg       0.66      0.71      0.68      6322\n",
            "weighted avg       0.88      0.86      0.87      6322\n",
            "\n",
            "--------------------------------------------------\n"
          ]
        },
        {
          "output_type": "display_data",
          "data": {
            "text/plain": [
              "<Figure size 576x432 with 1 Axes>"
            ],
            "image/png": "[encoded data removed]"
          },
          "metadata": {
            "needs_background": "light"
          }
        },
        {
          "output_type": "stream",
          "name": "stdout",
          "text": [
            "Classification report for Logistic Regression(Tuned)(Train):\n",
            "              precision    recall  f1-score   support\n",
            "\n",
            "          no       0.83      0.81      0.82     22393\n",
            "         yes       0.81      0.83      0.82     22393\n",
            "\n",
            "    accuracy                           0.82     44786\n",
            "   macro avg       0.82      0.82      0.82     44786\n",
            "weighted avg       0.82      0.82      0.82     44786\n",
            "\n",
            "Classification report for Logistic Regression(Tuned)(Test):\n",
            "              precision    recall  f1-score   support\n",
            "\n",
            "          no       0.97      0.81      0.88      5631\n",
            "         yes       0.33      0.79      0.47       691\n",
            "\n",
            "    accuracy                           0.80      6322\n",
            "   macro avg       0.65      0.80      0.67      6322\n",
            "weighted avg       0.90      0.80      0.84      6322\n",
            "\n",
            "--------------------------------------------------\n"
          ]
        },
        {
          "output_type": "display_data",
          "data": {
            "text/plain": [
              "<Figure size 576x432 with 1 Axes>"
            ],
            "image/png": "[encoded data removed]"
          },
          "metadata": {
            "needs_background": "light"
          }
        },
        {
          "output_type": "stream",
          "name": "stdout",
          "text": [
            "Classification report for Random Forest Classifier(Tuned)(Train):\n",
            "              precision    recall  f1-score   support\n",
            "\n",
            "          no       1.00      1.00      1.00     22393\n",
            "         yes       1.00      1.00      1.00     22393\n",
            "\n",
            "    accuracy                           1.00     44786\n",
            "   macro avg       1.00      1.00      1.00     44786\n",
            "weighted avg       1.00      1.00      1.00     44786\n",
            "\n",
            "Classification report for Random Forest Classifier(Tuned)(Test):\n",
            "              precision    recall  f1-score   support\n",
            "\n",
            "          no       0.95      0.93      0.94      5631\n",
            "         yes       0.50      0.57      0.53       691\n",
            "\n",
            "    accuracy                           0.89      6322\n",
            "   macro avg       0.72      0.75      0.73      6322\n",
            "weighted avg       0.90      0.89      0.89      6322\n",
            "\n",
            "--------------------------------------------------\n"
          ]
        },
        {
          "output_type": "display_data",
          "data": {
            "text/plain": [
              "<Figure size 576x432 with 1 Axes>"
            ],
            "image/png": "[encoded data removed]"
          },
          "metadata": {
            "needs_background": "light"
          }
        },
        {
          "output_type": "stream",
          "name": "stdout",
          "text": [
            "Classification report for KNN Classifier(Tuned)(Train):\n",
            "              precision    recall  f1-score   support\n",
            "\n",
            "          no       1.00      1.00      1.00     22393\n",
            "         yes       1.00      1.00      1.00     22393\n",
            "\n",
            "    accuracy                           1.00     44786\n",
            "   macro avg       1.00      1.00      1.00     44786\n",
            "weighted avg       1.00      1.00      1.00     44786\n",
            "\n",
            "Classification report for KNN Classifier(Tuned)(Test):\n",
            "              precision    recall  f1-score   support\n",
            "\n",
            "          no       0.93      0.89      0.91      5631\n",
            "         yes       0.35      0.48      0.40       691\n",
            "\n",
            "    accuracy                           0.84      6322\n",
            "   macro avg       0.64      0.68      0.66      6322\n",
            "weighted avg       0.87      0.84      0.86      6322\n",
            "\n",
            "--------------------------------------------------\n"
          ]
        },
        {
          "output_type": "display_data",
          "data": {
            "text/plain": [
              "<Figure size 576x432 with 1 Axes>"
            ],
            "image/png": "[encoded data removed]"
          },
          "metadata": {
            "needs_background": "light"
          }
        }
      ],
      "source": [
        "# Create a list of the three models and their corresponding pipelines\n",
        "models = [\n",
        "    ('Decision Tree(Tuned)', dtc_pipeline_tuned),\n",
        "    ('Logistic Regression(Tuned)', logreg_pipeline_tuned),\n",
        "    ('Random Forest Classifier(Tuned)', rfc_pipeline_tuned),\n",
        "    ('KNN Classifier(Tuned)', knn_pipeline_tuned)\n",
        "]\n",
        "\n",
        "# Loop through each model and pipeline, fit the model and make predictions\n",
        "for name, pipeline in models:\n",
        "    pipeline.fit(X_train_scaled, y_train)\n",
        "    y_pred = pipeline.predict(X_test_scaled)\n",
        "    train_pred = pipeline.predict(X_train_scaled)\n",
        "    \n",
        "    # Calculate confusion matrix and classification report\n",
        "    cm = confusion_matrix(y_test, y_pred)\n",
        "    print(f'Classification report for {name}(Train):')\n",
        "    print(classification_report(y_train, train_pred))\n",
        "    print(f'Classification report for {name}(Test):')\n",
        "    print(classification_report(y_test, y_pred))\n",
        "    print('-' * 50)\n",
        "    \n",
        "    # Visualize confusion matrix\n",
        "    plt.figure(figsize=(8, 6))\n",
        "    sns.heatmap(cm, annot=True, cmap='Blues', fmt='g', cbar=False)\n",
        "    plt.title(f'Confusion Matrix for {name}')\n",
        "    plt.xlabel('Predicted label')\n",
        "    plt.ylabel('True label')\n",
        "    plt.show()\n"
      ]
    },
    {
      "cell_type": "markdown",
      "source": [
        "## 1. Decision Tree Model\n",
        "The confusion matrix shows that the decision tree model predicted 5159 true negatives and 301 true positives, while misclassifying 472 as false negatives and 390 as false positives. The classification report indicates that the model has high precision (0.93) and recall (0.92) for the negative class, but low precision (0.39) and recall (0.44) for the positive class. The overall accuracy of the model is 0.86.\n",
        "\n",
        "These results suggest that the decision tree model is good at predicting the negative class (people who do not subscribe to the term deposit), but not so good at predicting the positive class (people who do subscribe to the term deposit). The low precision for the positive class indicates that a large proportion of the positive predictions are incorrect, while the low recall suggests that the model is missing a significant number of positive cases. Therefore, this model may not be the best choice for this particular problem.\n",
        "\n",
        "## 2. Logistic Regression Model\n",
        "The confusion matrix for Logistic Regression shows that the model predicted 5525 true negatives and 214 true positives out of a total of 5631 negative and 691 positive samples, respectively. The model misclassified 106 negative samples as positive and 477 positive samples as negative.\n",
        "\n",
        "The classification report indicates that the model has a high precision and recall for the negative class (no), with a precision of 0.92 and recall of 0.98. However, the precision and recall for the positive class (yes) are lower, with a precision of 0.67 and recall of 0.31. The model has an overall accuracy of 0.91, but its performance is imbalanced towards the negative class, which is more abundant in the dataset. The F1-score, which is a weighted average of precision and recall, is 0.95 for the negative class and 0.42 for the positive class. Overall, the logistic regression model performs better than the decision tree model in terms of accuracy and balanced performance.\n",
        "\n",
        "## 3. Random Forest Classifier model\n",
        "For the Random Forest Classifier model, the accuracy is 0.90. The model predicted 5451 true negatives and 253 true positives. However, the model predicted 180 false negatives and 438 false positives. The recall for churn is 0.37, which is better than the Decision Tree and Logistic Regression models, but still not very high.\n",
        "\n",
        "## 4. KNN Classifier\n",
        "The KNN Classifier has an accuracy of 0.90 which is relatively high, and it has 5501 true negatives and 170 true positives in its confusion matrix, meaning that it correctly predicted 5501 non-subscription instances and 170 subscription instances. However, it also misclassified 521 non-subscription instances as subscriptions, and 130 subscription instances as non-subscriptions. The precision for predicting subscriptions is 0.57 which means that it correctly predicted 57% of subscriptions, while the recall is 0.25 meaning that only 25% of all subscriptions were correctly identified. This indicates that KNN Classifier may not be the best model for this dataset."
      ],
      "metadata": {
        "id": "PbZ2-rTfGIdK"
      }
    },
    {
      "cell_type": "markdown",
      "metadata": {
        "id": "j3-drjk94gVq"
      },
      "source": [
        "Some of the models took a long time to run. This is due to the amount of features used during modelling. Let us see if we can retain most of the accuracy while reducing the run time and computational load."
      ]
    },
    {
      "cell_type": "markdown",
      "metadata": {
        "id": "oGh2emle4gVz"
      },
      "source": [
        "## Dimensionality reduction with PCA"
      ]
    },
    {
      "cell_type": "code",
      "execution_count": null,
      "metadata": {
        "id": "4_QtC5WV4gV0",
        "outputId": "6df021c1-341f-4964-e26e-21ee65741181"
      },
      "outputs": [
        {
          "data": {
            "image/png": "[encoded data removed]",
            "text/plain": [
              "<Figure size 1080x432 with 1 Axes>"
            ]
          },
          "metadata": {},
          "output_type": "display_data"
        },
        {
          "data": {
            "text/plain": [
              "None"
            ]
          },
          "metadata": {},
          "output_type": "display_data"
        },
        {
          "data": {
            "text/html": [
              "<div>\n",
              "<style scoped>\n",
              "    .dataframe tbody tr th:only-of-type {\n",
              "        vertical-align: middle;\n",
              "    }\n",
              "\n",
              "    .dataframe tbody tr th {\n",
              "        vertical-align: top;\n",
              "    }\n",
              "\n",
              "    .dataframe thead th {\n",
              "        text-align: right;\n",
              "    }\n",
              "</style>\n",
              "<table border=\"1\" class=\"dataframe\">\n",
              "  <thead>\n",
              "    <tr style=\"text-align: right;\">\n",
              "      <th></th>\n",
              "      <th>Cumulative Variance Ratio</th>\n",
              "      <th>Explained Variance Ratio</th>\n",
              "    </tr>\n",
              "  </thead>\n",
              "  <tbody>\n",
              "    <tr>\n",
              "      <th>0</th>\n",
              "      <td>0.190136</td>\n",
              "      <td>0.190136</td>\n",
              "    </tr>\n",
              "    <tr>\n",
              "      <th>1</th>\n",
              "      <td>0.308446</td>\n",
              "      <td>0.118310</td>\n",
              "    </tr>\n",
              "    <tr>\n",
              "      <th>2</th>\n",
              "      <td>0.375978</td>\n",
              "      <td>0.067532</td>\n",
              "    </tr>\n",
              "    <tr>\n",
              "      <th>3</th>\n",
              "      <td>0.436094</td>\n",
              "      <td>0.060115</td>\n",
              "    </tr>\n",
              "    <tr>\n",
              "      <th>4</th>\n",
              "      <td>0.486394</td>\n",
              "      <td>0.050300</td>\n",
              "    </tr>\n",
              "    <tr>\n",
              "      <th>5</th>\n",
              "      <td>0.530638</td>\n",
              "      <td>0.044245</td>\n",
              "    </tr>\n",
              "    <tr>\n",
              "      <th>6</th>\n",
              "      <td>0.573179</td>\n",
              "      <td>0.042541</td>\n",
              "    </tr>\n",
              "    <tr>\n",
              "      <th>7</th>\n",
              "      <td>0.614472</td>\n",
              "      <td>0.041293</td>\n",
              "    </tr>\n",
              "    <tr>\n",
              "      <th>8</th>\n",
              "      <td>0.655012</td>\n",
              "      <td>0.040540</td>\n",
              "    </tr>\n",
              "    <tr>\n",
              "      <th>9</th>\n",
              "      <td>0.694530</td>\n",
              "      <td>0.039518</td>\n",
              "    </tr>\n",
              "    <tr>\n",
              "      <th>10</th>\n",
              "      <td>0.733830</td>\n",
              "      <td>0.039300</td>\n",
              "    </tr>\n",
              "    <tr>\n",
              "      <th>11</th>\n",
              "      <td>0.772369</td>\n",
              "      <td>0.038539</td>\n",
              "    </tr>\n",
              "    <tr>\n",
              "      <th>12</th>\n",
              "      <td>0.810500</td>\n",
              "      <td>0.038131</td>\n",
              "    </tr>\n",
              "    <tr>\n",
              "      <th>13</th>\n",
              "      <td>0.846631</td>\n",
              "      <td>0.036132</td>\n",
              "    </tr>\n",
              "    <tr>\n",
              "      <th>14</th>\n",
              "      <td>0.882160</td>\n",
              "      <td>0.035529</td>\n",
              "    </tr>\n",
              "    <tr>\n",
              "      <th>15</th>\n",
              "      <td>0.916607</td>\n",
              "      <td>0.034447</td>\n",
              "    </tr>\n",
              "  </tbody>\n",
              "</table>\n",
              "</div>"
            ],
            "text/plain": [
              "    Cumulative Variance Ratio  Explained Variance Ratio\n",
              "0                    0.190136                  0.190136\n",
              "1                    0.308446                  0.118310\n",
              "2                    0.375978                  0.067532\n",
              "3                    0.436094                  0.060115\n",
              "4                    0.486394                  0.050300\n",
              "5                    0.530638                  0.044245\n",
              "6                    0.573179                  0.042541\n",
              "7                    0.614472                  0.041293\n",
              "8                    0.655012                  0.040540\n",
              "9                    0.694530                  0.039518\n",
              "10                   0.733830                  0.039300\n",
              "11                   0.772369                  0.038539\n",
              "12                   0.810500                  0.038131\n",
              "13                   0.846631                  0.036132\n",
              "14                   0.882160                  0.035529\n",
              "15                   0.916607                  0.034447"
            ]
          },
          "metadata": {},
          "output_type": "display_data"
        }
      ],
      "source": [
        "#using PCA to reduce the number of features\n",
        "pca_test = PCA(n_components=22)\n",
        "pca_test.fit(X_train_scaled)\n",
        "sns.set(style='whitegrid')\n",
        "plt.subplots(figsize = (15,6))\n",
        "plt.plot(np.cumsum(pca_test.explained_variance_ratio_))\n",
        "plt.xlabel('number of components')\n",
        "plt.ylabel('cumulative explained variance')\n",
        "plt.axvline(linewidth=4, color='r', linestyle = '--', x=16, ymin=0, ymax=1)\n",
        "display(plt.show())\n",
        "evr = pca_test.explained_variance_ratio_\n",
        "cvr = np.cumsum(pca_test.explained_variance_ratio_)\n",
        "pca_df = pd.DataFrame()\n",
        "pca_df['Cumulative Variance Ratio'] = cvr\n",
        "pca_df['Explained Variance Ratio'] = evr\n",
        "display(pca_df.head(16))"
      ]
    },
    {
      "cell_type": "markdown",
      "metadata": {
        "id": "kbl5MmFJ4gV4"
      },
      "source": [
        "Most of the variance is explained using 16 of the features. We can use these features to model the data and see what we get."
      ]
    },
    {
      "cell_type": "code",
      "execution_count": null,
      "metadata": {
        "id": "1CRFGtf14gV5"
      },
      "outputs": [],
      "source": [
        "#reducing the data to 16 features\n",
        "#scaling the data\n",
        "pca = PCA(n_components=16)\n",
        "pca.fit(X_train_scaled)\n",
        "X_train_scaled_pca = pca.transform(X_train_scaled)\n",
        "X_test_scaled_pca = pca.transform(X_test_scaled)"
      ]
    },
    {
      "cell_type": "markdown",
      "metadata": {
        "id": "5S5cIEUW4gV5"
      },
      "source": [
        "We can now use the PCA data to train our models. Since we have seen how the models performs with hyperparameter tuned normal data, we want to to see how it performs with hyperparameter tuned PCA data."
      ]
    },
    {
      "cell_type": "markdown",
      "metadata": {
        "id": "4BJx_bGj4gV6"
      },
      "source": [
        "## HyperParameter tuned models using PCA data"
      ]
    },
    {
      "cell_type": "code",
      "execution_count": null,
      "metadata": {
        "colab": {
          "base_uri": "https://localhost:8080/"
        },
        "outputId": "9b18fd23-d0ae-4bd6-e0e4-ae5d165b76fc",
        "id": "1TDr_a--4gWH"
      },
      "outputs": [
        {
          "name": "stdout",
          "output_type": "stream",
          "text": [
            "Best Hyperparameters for Decision Tree Classifier:  {'dtc__criterion': 'gini', 'dtc__max_depth': None, 'dtc__min_samples_leaf': 1, 'dtc__min_samples_split': 2}\n",
            "Accuracy score for Decision Tree Classifier:  0.8620998389638549\n"
          ]
        }
      ],
      "source": [
        "# Define hyperparameters for tuning\n",
        "dtc_params = {\n",
        "    'dtc__criterion': ['gini', 'entropy'],\n",
        "    'dtc__max_depth': [None, 5, 10, 15],\n",
        "    'dtc__min_samples_split': [2, 5, 10],\n",
        "    'dtc__min_samples_leaf': [1, 2, 4]\n",
        "}\n",
        "\n",
        "# Perform grid search cross-validation to find the best hyperparameters\n",
        "dtc_cv = GridSearchCV(dtc_pipeline, dtc_params, cv=3, n_jobs=-1)\n",
        "dtc_cv.fit(X_train_scaled_pca, y_train)\n",
        "\n",
        "# Print the best hyperparameters and accuracy score\n",
        "print(\"Best Hyperparameters for Decision Tree Classifier: \", dtc_cv.best_params_)\n",
        "print(\"Accuracy score for Decision Tree Classifier: \", dtc_cv.best_score_)\n"
      ]
    },
    {
      "cell_type": "code",
      "execution_count": null,
      "metadata": {
        "id": "e5TxwSUw4gWJ"
      },
      "outputs": [],
      "source": [
        "# Create pipeline\n",
        "dtc_pipeline_tuned = Pipeline([\n",
        "    ('dtc', DecisionTreeClassifier(criterion = 'gini',\n",
        "                                   max_depth = None,\n",
        "                                   min_samples_leaf = 1,\n",
        "                                   min_samples_split = 2,\n",
        "                                   random_state = 42\n",
        "                                  ))\n",
        "])"
      ]
    },
    {
      "cell_type": "code",
      "execution_count": null,
      "metadata": {
        "colab": {
          "base_uri": "https://localhost:8080/"
        },
        "outputId": "116c6bdf-4c65-4d0c-946c-1fc6db74a97e",
        "id": "XnBU2fOy4gWJ"
      },
      "outputs": [
        {
          "name": "stdout",
          "output_type": "stream",
          "text": [
            "Best Hyperparameters for Logistic Regression:  {'logreg__C': 0.08858667904100823, 'logreg__penalty': 'l1', 'logreg__solver': 'liblinear'}\n",
            "Accuracy score for Logistic Regression:  0.805006013518172\n"
          ]
        }
      ],
      "source": [
        "# define the parameter grid\n",
        "logreg_params = {\n",
        "    'logreg__penalty': ['l1'],\n",
        "    'logreg__C': np.logspace(-4, 4, 20),\n",
        "    'logreg__solver': ['liblinear']\n",
        "}\n",
        "\n",
        "\n",
        "# Perform grid search cross-validation to find the best hyperparameters\n",
        "logreg_cv = GridSearchCV(logreg_pipeline, logreg_params, cv=3, n_jobs=-1)\n",
        "logreg_cv.fit(X_train_scaled_pca, y_train)\n",
        "\n",
        "# Print the best hyperparameters and accuracy score\n",
        "print(\"Best Hyperparameters for Logistic Regression: \", logreg_cv.best_params_)\n",
        "print(\"Accuracy score for Logistic Regression: \", logreg_cv.best_score_)\n"
      ]
    },
    {
      "cell_type": "code",
      "execution_count": null,
      "metadata": {
        "id": "neMYiBt84gWK"
      },
      "outputs": [],
      "source": [
        "# Create pipeline\n",
        "logreg_pipeline_tuned = Pipeline([\n",
        "    ('logreg', LogisticRegression(max_iter=10000,\n",
        "                                  C = 0.08858667904100823 ,\n",
        "                                  penalty = 'l1',\n",
        "                                  solver = 'liblinear',\n",
        "                                  random_state = 42))\n",
        "])"
      ]
    },
    {
      "cell_type": "code",
      "execution_count": null,
      "metadata": {
        "colab": {
          "base_uri": "https://localhost:8080/"
        },
        "outputId": "10665091-b37e-4a8a-c2b6-3ee84df8b948",
        "id": "qay1djHL4gWL"
      },
      "outputs": [
        {
          "name": "stdout",
          "output_type": "stream",
          "text": [
            "Best Hyperparameters for Random Forest Classifier:  {'rfc__max_depth': None, 'rfc__min_samples_leaf': 1, 'rfc__min_samples_split': 2, 'rfc__n_estimators': 200}\n",
            "Accuracy score for Random Forest Classifier:  0.9105971417621831\n"
          ]
        }
      ],
      "source": [
        "# Define hyperparameters for tuning\n",
        "rfc_params = {\n",
        "    'rfc__n_estimators': [100, 200, 500],\n",
        "    'rfc__max_depth': [None, 5, 10, 15],\n",
        "    'rfc__min_samples_split': [2, 5, 10],\n",
        "    'rfc__min_samples_leaf': [1, 2, 4]\n",
        "}\n",
        "\n",
        "# Perform grid search cross-validation to find the best hyperparameters\n",
        "rfc_cv = GridSearchCV(rfc_pipeline, rfc_params, cv=3, n_jobs=-1)\n",
        "rfc_cv.fit(X_train_scaled_pca, y_train)\n",
        "\n",
        "# Print the best hyperparameters and accuracy score\n",
        "print(\"Best Hyperparameters for Random Forest Classifier: \", rfc_cv.best_params_)\n",
        "print(\"Accuracy score for Random Forest Classifier: \", rfc_cv.best_score_)\n"
      ]
    },
    {
      "cell_type": "code",
      "execution_count": null,
      "metadata": {
        "id": "hEhSgS-_4gWL"
      },
      "outputs": [],
      "source": [
        "# Create pipeline\n",
        "rfc_pipeline_tuned = Pipeline([\n",
        "    ('rfc', RandomForestClassifier(random_state = 42,\n",
        "                                  max_depth = None,\n",
        "                                  min_samples_leaf = 1,\n",
        "                                  min_samples_split = 2,\n",
        "                                  n_estimators = 100))\n",
        "])"
      ]
    },
    {
      "cell_type": "code",
      "execution_count": null,
      "metadata": {
        "colab": {
          "base_uri": "https://localhost:8080/"
        },
        "outputId": "a00b640a-a378-403a-abc4-192223e5a945",
        "id": "xoinYed34gWM"
      },
      "outputs": [
        {
          "name": "stdout",
          "output_type": "stream",
          "text": [
            "Best Hyperparameters for KNN Classifier:  {'knn__n_neighbors': 3, 'knn__p': 1, 'knn__weights': 'distance'}\n",
            "Accuracy score for KNN Classifier:  0.9145939333627015\n"
          ]
        }
      ],
      "source": [
        "# Define hyperparameters for tuning\n",
        "knn_params = {\n",
        "    'knn__n_neighbors': [3, 5, 7, 9],\n",
        "    'knn__weights': ['uniform', 'distance'],\n",
        "    'knn__p': [1, 2]\n",
        "}\n",
        "\n",
        "# Perform grid search using the defined pipeline and hyperparameters\n",
        "knn_grid = GridSearchCV(knn_pipeline, knn_params, cv=5, n_jobs=-1)\n",
        "knn_grid.fit(X_train_scaled_pca, y_train)\n",
        "\n",
        "# Print the best hyperparameters and accuracy score for the KNN classifier\n",
        "print(\"Best Hyperparameters for KNN Classifier: \", knn_grid.best_params_)\n",
        "print(\"Accuracy score for KNN Classifier: \", knn_grid.best_score_)\n"
      ]
    },
    {
      "cell_type": "code",
      "execution_count": null,
      "metadata": {
        "id": "PYGCnU3W4gWS"
      },
      "outputs": [],
      "source": [
        "# Create pipeline\n",
        "knn_pipeline_tuned = Pipeline([\n",
        "    ('knn', KNeighborsClassifier(n_neighbors = 3,\n",
        "                                p = 1,\n",
        "                                weights = 'distance'))\n",
        "])\n"
      ]
    },
    {
      "cell_type": "code",
      "execution_count": null,
      "metadata": {
        "id": "DmMd3BgR4gWT"
      },
      "outputs": [],
      "source": []
    },
    {
      "cell_type": "code",
      "execution_count": null,
      "metadata": {
        "colab": {
          "base_uri": "https://localhost:8080/",
          "height": 1000
        },
        "outputId": "14c7d414-e36f-44ea-f60f-7bdfa4c97169",
        "scrolled": false,
        "id": "DfFarjKr4gWU"
      },
      "outputs": [
        {
          "name": "stdout",
          "output_type": "stream",
          "text": [
            "Classification report for Decision Tree(Tuned)(Train):\n",
            "              precision    recall  f1-score   support\n",
            "\n",
            "          no       1.00      1.00      1.00     22393\n",
            "         yes       1.00      1.00      1.00     22393\n",
            "\n",
            "    accuracy                           1.00     44786\n",
            "   macro avg       1.00      1.00      1.00     44786\n",
            "weighted avg       1.00      1.00      1.00     44786\n",
            "\n",
            "Classification report for Decision Tree(Tuned)(Test):\n",
            "              precision    recall  f1-score   support\n",
            "\n",
            "          no       0.94      0.87      0.90      5631\n",
            "         yes       0.33      0.52      0.40       691\n",
            "\n",
            "    accuracy                           0.83      6322\n",
            "   macro avg       0.63      0.69      0.65      6322\n",
            "weighted avg       0.87      0.83      0.85      6322\n",
            "\n",
            "--------------------------------------------------\n"
          ]
        },
        {
          "data": {
            "image/png": "[encoded data removed]",
            "text/plain": [
              "<Figure size 576x432 with 1 Axes>"
            ]
          },
          "metadata": {},
          "output_type": "display_data"
        },
        {
          "name": "stdout",
          "output_type": "stream",
          "text": [
            "Classification report for Logistic Regression(Tuned)(Train):\n",
            "              precision    recall  f1-score   support\n",
            "\n",
            "          no       0.81      0.79      0.80     22393\n",
            "         yes       0.80      0.82      0.81     22393\n",
            "\n",
            "    accuracy                           0.81     44786\n",
            "   macro avg       0.81      0.81      0.81     44786\n",
            "weighted avg       0.81      0.81      0.81     44786\n",
            "\n",
            "Classification report for Logistic Regression(Tuned)(Test):\n",
            "              precision    recall  f1-score   support\n",
            "\n",
            "          no       0.96      0.79      0.87      5631\n",
            "         yes       0.31      0.76      0.44       691\n",
            "\n",
            "    accuracy                           0.79      6322\n",
            "   macro avg       0.64      0.78      0.65      6322\n",
            "weighted avg       0.89      0.79      0.82      6322\n",
            "\n",
            "--------------------------------------------------\n"
          ]
        },
        {
          "data": {
            "image/png": "[encoded data removed]",
            "text/plain": [
              "<Figure size 576x432 with 1 Axes>"
            ]
          },
          "metadata": {},
          "output_type": "display_data"
        },
        {
          "name": "stdout",
          "output_type": "stream",
          "text": [
            "Classification report for Random Forest Classifier(Tuned)(Train):\n",
            "              precision    recall  f1-score   support\n",
            "\n",
            "          no       1.00      1.00      1.00     22393\n",
            "         yes       1.00      1.00      1.00     22393\n",
            "\n",
            "    accuracy                           1.00     44786\n",
            "   macro avg       1.00      1.00      1.00     44786\n",
            "weighted avg       1.00      1.00      1.00     44786\n",
            "\n",
            "Classification report for Random Forest Classifier(Tuned)(Test):\n",
            "              precision    recall  f1-score   support\n",
            "\n",
            "          no       0.95      0.90      0.92      5631\n",
            "         yes       0.41      0.58      0.48       691\n",
            "\n",
            "    accuracy                           0.86      6322\n",
            "   macro avg       0.68      0.74      0.70      6322\n",
            "weighted avg       0.89      0.86      0.87      6322\n",
            "\n",
            "--------------------------------------------------\n"
          ]
        },
        {
          "data": {
            "image/png": "[encoded data removed]",
            "text/plain": [
              "<Figure size 576x432 with 1 Axes>"
            ]
          },
          "metadata": {},
          "output_type": "display_data"
        },
        {
          "name": "stdout",
          "output_type": "stream",
          "text": [
            "Classification report for KNN Classifier(Tuned)(Train):\n",
            "              precision    recall  f1-score   support\n",
            "\n",
            "          no       1.00      1.00      1.00     22393\n",
            "         yes       1.00      1.00      1.00     22393\n",
            "\n",
            "    accuracy                           1.00     44786\n",
            "   macro avg       1.00      1.00      1.00     44786\n",
            "weighted avg       1.00      1.00      1.00     44786\n",
            "\n",
            "Classification report for KNN Classifier(Tuned)(Test):\n",
            "              precision    recall  f1-score   support\n",
            "\n",
            "          no       0.94      0.86      0.90      5631\n",
            "         yes       0.34      0.58      0.43       691\n",
            "\n",
            "    accuracy                           0.83      6322\n",
            "   macro avg       0.64      0.72      0.67      6322\n",
            "weighted avg       0.88      0.83      0.85      6322\n",
            "\n",
            "--------------------------------------------------\n"
          ]
        },
        {
          "data": {
            "image/png": "[encoded data removed]",
            "text/plain": [
              "<Figure size 576x432 with 1 Axes>"
            ]
          },
          "metadata": {},
          "output_type": "display_data"
        }
      ],
      "source": [
        "# Create a list of the three models and their corresponding pipelines\n",
        "models = [\n",
        "    ('Decision Tree(Tuned)', dtc_pipeline_tuned),\n",
        "    ('Logistic Regression(Tuned)', logreg_pipeline_tuned),\n",
        "    ('Random Forest Classifier(Tuned)', rfc_pipeline_tuned),\n",
        "    ('KNN Classifier(Tuned)', knn_pipeline_tuned)\n",
        "]\n",
        "\n",
        "# Loop through each model and pipeline, fit the model and make predictions\n",
        "for name, pipeline in models:\n",
        "    pipeline.fit(X_train_scaled_pca, y_train)\n",
        "    y_pred = pipeline.predict(X_test_scaled_pca)\n",
        "    train_pred = pipeline.predict(X_train_scaled_pca)\n",
        "    \n",
        "    # Calculate confusion matrix and classification report\n",
        "    cm = confusion_matrix(y_test, y_pred)\n",
        "    print(f'Classification report for {name}(Train):')\n",
        "    print(classification_report(y_train, train_pred))\n",
        "    print(f'Classification report for {name}(Test):')\n",
        "    print(classification_report(y_test, y_pred))\n",
        "    print('-' * 50)\n",
        "    \n",
        "    # Visualize confusion matrix\n",
        "    plt.figure(figsize=(8, 6))\n",
        "    sns.heatmap(cm, annot=True, cmap='Blues', fmt='g', cbar=False)\n",
        "    plt.title(f'Confusion Matrix for {name}')\n",
        "    plt.xlabel('Predicted label')\n",
        "    plt.ylabel('True label')\n",
        "    plt.show()\n"
      ]
    },
    {
      "cell_type": "markdown",
      "metadata": {
        "id": "i5oxMcnUl2u-"
      },
      "source": [
        "Performing PCA on the data can help reduce the dimensionality of the dataset, which can help improve the performance of the models by removing noisy or redundant features. However, it is important to note that PCA can also result in some loss of information.\n",
        "\n",
        "Looking at the classification reports for the different models, it appears that the performance of the Decision Tree and Random Forest models has improved slightly after applying PCA, while the performance of the Logistic Regression and KNN models has decreased. This suggests that for the Decision Tree and Random Forest models, PCA has helped to remove some noise or redundancy from the data, while for the Logistic Regression and KNN models, important information may have been lost."
      ]
    },
    {
      "cell_type": "markdown",
      "metadata": {
        "id": "lvqtKfFxZsqJ"
      },
      "source": [
        "# Conclusion"
      ]
    },
    {
      "cell_type": "markdown",
      "source": [
        "In this project, we have analyzed a dataset containing information about bank customers and their potential subscription to a term deposit. We started by performing exploratory data analysis, where we explored the relationships between the different features and the target variable. Then we preprocessed the data, performed feature engineering, and split the data into training and test sets.\n",
        "\n",
        "Next, we trained and evaluated five different models: Decision Tree Classifier, Logistic Regression, Random Forest Classifier, K-Nearest Neighbors, and Support Vector Machine. We tuned the hyperparameters of each model using grid search and evaluated their performance on the test set.\n",
        "\n",
        "After that, we applied dimensionality reduction using Principal Component Analysis (PCA) on the data and trained the same five models on the transformed dataset. We also tuned the hyperparameters of each model using grid search and evaluated their performance on the test set.\n",
        "\n",
        "After comparing the classification reports of the tuned models before and after PCA, it appears that PCA did not significantly improve the performance of any of the models. In fact, in some cases, the performance of the models decreased slightly after PCA.\n",
        "\n",
        "Out of the tuned models, the Random Forest Classifier performed the best on both the training and test sets, with an accuracy of 1.00 on the training set and 0.86 on the test set. It also had the highest precision, recall, and F1 scores for the positive class ('yes') on the test set. Therefore, the Random Forest Classifier is the best model for this classification problem.\n",
        "\n",
        "Overall, the machine learning pipeline developed and evaluated in this project could be a useful tool for predicting whether or not a customer will subscribe to a term deposit based on their demographics, previous marketing interactions, and economic indicators(available features in the dataset)."
      ],
      "metadata": {
        "id": "FAvtUNzPIEkw"
      }
    }
  ],
  "metadata": {
    "colab": {
      "provenance": []
    },
    "kernelspec": {
      "display_name": "Python 3",
      "language": "python",
      "name": "python3"
    },
    "language_info": {
      "codemirror_mode": {
        "name": "ipython",
        "version": 3
      },
      "file_extension": ".py",
      "mimetype": "text/x-python",
      "name": "python",
      "nbconvert_exporter": "python",
      "pygments_lexer": "ipython3",
      "version": "3.8.5"
    }
  },
  "nbformat": 4,
  "nbformat_minor": 0
}